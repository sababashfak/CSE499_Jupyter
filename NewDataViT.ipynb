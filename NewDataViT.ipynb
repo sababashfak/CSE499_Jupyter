{
 "cells": [
  {
   "cell_type": "code",
   "execution_count": 1,
   "id": "a73b1e39-232b-4ce3-913d-855fcc58c197",
   "metadata": {},
   "outputs": [],
   "source": [
    "import os\n",
    "import re\n",
    "import numpy as np\n",
    "from PIL import Image\n",
    "import torch\n",
    "from torch import nn\n",
    "from torch.utils.data import Dataset, DataLoader\n",
    "from transformers import ViTModel, ViTConfig\n",
    "from sklearn.metrics import mean_squared_error, mean_absolute_error\n",
    "from skimage.metrics import structural_similarity as ssim\n",
    "import matplotlib.pyplot as plt\n",
    "from tqdm import tqdm"
   ]
  },
  {
   "cell_type": "code",
   "execution_count": 2,
   "id": "28461ee3-53f6-46fe-bcd2-843b39186c77",
   "metadata": {},
   "outputs": [],
   "source": [
    "# Configuration\n",
    "data_dir = r\"F:/Education/NSU/CSE/CSE499/Implementation/Image Data\"\n",
    "gray_image_dir = os.path.join(data_dir, \"gray_image\")\n",
    "even_dir = os.path.join(gray_image_dir, \"even_images\")\n",
    "odd_dir = os.path.join(gray_image_dir, \"odd_images\")\n",
    "matrix_dir = os.path.join(data_dir, \"matrix\")\n",
    "image_size = (50, 50)\n",
    "batch_size = 8\n",
    "num_epochs = 10\n",
    "learning_rate = 2e-5\n",
    "device = torch.device(\"cuda\" if torch.cuda.is_available() else \"cpu\")"
   ]
  },
  {
   "cell_type": "code",
   "execution_count": 3,
   "id": "e2bf4191-6d0c-439a-b0b6-ca144d80b5db",
   "metadata": {},
   "outputs": [],
   "source": [
    "# Custom Dataset\n",
    "class ImagePairDataset(Dataset):\n",
    "    def __init__(self, even_dir, odd_dir, matrix_dir, transform=None):\n",
    "        self.even_dir = even_dir\n",
    "        self.odd_dir = odd_dir\n",
    "        self.matrix_dir = matrix_dir\n",
    "        self.transform = transform\n",
    "        \n",
    "        # Get list of image IDs from even_images (assuming same IDs in odd_images)\n",
    "        even_files = [f for f in os.listdir(even_dir) if f.endswith(\"_even.png\")]\n",
    "        self.ids = []\n",
    "        for f in even_files:\n",
    "            match = re.match(r\"(\\d+)_even\\.png\", f)\n",
    "            if match:\n",
    "                id_str = match.group(1)\n",
    "                odd_file = f\"{id_str}_odd.png\"\n",
    "                matrix_file = f\"{id_str}.png\"\n",
    "                if (os.path.exists(os.path.join(odd_dir, odd_file)) and \n",
    "                    os.path.exists(os.path.join(matrix_dir, matrix_file))):\n",
    "                    self.ids.append(id_str)\n",
    "        \n",
    "        print(f\"Found {len(self.ids)} matching image pairs\")\n",
    "        \n",
    "    def __len__(self):\n",
    "        return len(self.ids)\n",
    "    \n",
    "    def __getitem__(self, idx):\n",
    "        id_str = self.ids[idx]\n",
    "        \n",
    "        # Load even and odd images\n",
    "        even_img = Image.open(os.path.join(self.even_dir, f\"{id_str}_even.png\")).convert(\"L\")\n",
    "        odd_img = Image.open(os.path.join(self.odd_dir, f\"{id_str}_odd.png\")).convert(\"L\")\n",
    "        matrix_img = Image.open(os.path.join(self.matrix_dir, f\"{id_str}.png\")).convert(\"L\")\n",
    "        \n",
    "        # Convert to numpy and normalize\n",
    "        even_img = np.array(even_img, dtype=np.float32) / 255.0\n",
    "        odd_img = np.array(odd_img, dtype=np.float32) / 255.0\n",
    "        matrix_img = np.array(matrix_img, dtype=np.float32) / 255.0\n",
    "        \n",
    "        # Combine even and odd into 2-channel input\n",
    "        input_img = np.stack([even_img, odd_img], axis=2)  # Shape: (50, 50, 2)\n",
    "        \n",
    "        # Convert to torch tensors\n",
    "        input_img = torch.tensor(input_img).permute(2, 0, 1)  # Shape: (2, 50, 50)\n",
    "        matrix_img = torch.tensor(matrix_img).flatten()  # Shape: (2500,)\n",
    "        \n",
    "        return input_img, matrix_img\n"
   ]
  },
  {
   "cell_type": "code",
   "execution_count": 4,
   "id": "6b0e6716-b465-43a4-bb26-0557c1cf12bf",
   "metadata": {},
   "outputs": [],
   "source": [
    "# Custom ViT Model for Regression\n",
    "class ViTForImageRegression(nn.Module):\n",
    "    def __init__(self, model_name=\"google/vit-base-patch16-224\"):\n",
    "        super(ViTForImageRegression, self).__init__()\n",
    "        self.vit = ViTModel.from_pretrained(model_name)\n",
    "        self.vit.config.patch_size = 10  # Adjust for 50x50 input\n",
    "        self.regressor = nn.Linear(self.vit.config.hidden_size, 50 * 50)  # Output 50x50 pixels\n",
    "    \n",
    "    def forward(self, pixel_values):\n",
    "        outputs = self.vit(pixel_values=pixel_values)\n",
    "        pooled_output = outputs.pooler_output  # [CLS] token\n",
    "        return self.regressor(pooled_output)"
   ]
  },
  {
   "cell_type": "code",
   "execution_count": 5,
   "id": "5fa472bc-8bdb-4ac5-8374-d8e86a0f081c",
   "metadata": {},
   "outputs": [],
   "source": [
    "# Compute SSIM for a batch\n",
    "def compute_batch_ssim(preds, targets, size=(50, 50)):\n",
    "    ssim_scores = []\n",
    "    preds = preds.cpu().numpy().reshape(-1, *size)\n",
    "    targets = targets.cpu().numpy().reshape(-1, *size)\n",
    "    for i in range(len(preds)):\n",
    "        score = ssim(preds[i], targets[i], data_range=1.0)\n",
    "        ssim_scores.append(score)\n",
    "    return np.mean(ssim_scores)\n",
    "\n"
   ]
  },
  {
   "cell_type": "code",
   "execution_count": 6,
   "id": "9fa10a00-b20e-49c3-be61-55584d7e14d8",
   "metadata": {},
   "outputs": [],
   "source": [
    "# Training and Evaluation\n",
    "def train_model():\n",
    "    # Initialize dataset and dataloader\n",
    "    dataset = ImagePairDataset(even_dir, odd_dir, matrix_dir)\n",
    "    dataloader = DataLoader(dataset, batch_size=batch_size, shuffle=True)\n",
    "    \n",
    "    # Initialize model\n",
    "    model = ViTForImageRegression().to(device)\n",
    "    optimizer = torch.optim.AdamW(model.parameters(), lr=learning_rate)\n",
    "    criterion = nn.MSELoss()\n",
    "    \n",
    "    # Training loop\n",
    "    for epoch in range(num_epochs):\n",
    "        model.train()\n",
    "        train_loss = 0.0\n",
    "        train_mse = 0.0\n",
    "        train_mae = 0.0\n",
    "        train_ssim = 0.0\n",
    "        num_batches = 0\n",
    "        \n",
    "        for inputs, targets in tqdm(dataloader, desc=f\"Epoch {epoch + 1}/{num_epochs}\"):\n",
    "            inputs, targets = inputs.to(device), targets.to(device)\n",
    "            \n",
    "            # Forward pass\n",
    "            outputs = model(inputs)\n",
    "            loss = criterion(outputs, targets)\n",
    "            \n",
    "            # Backward pass\n",
    "            optimizer.zero_grad()\n",
    "            loss.backward()\n",
    "            optimizer.step()\n",
    "            \n",
    "            # Compute metrics\n",
    "            train_loss += loss.item()\n",
    "            preds = outputs.detach()\n",
    "            train_mse += mean_squared_error(targets.cpu().numpy(), preds.cpu().numpy())\n",
    "            train_mae += mean_absolute_error(targets.cpu().numpy(), preds.cpu().numpy())\n",
    "            train_ssim += compute_batch_ssim(preds, targets)\n",
    "            num_batches += 1\n",
    "        \n",
    "        # Average metrics\n",
    "        train_loss /= num_batches\n",
    "        train_mse /= num_batches\n",
    "        train_mae /= num_batches\n",
    "        train_ssim /= num_batches\n",
    "        \n",
    "        print(f\"Epoch {epoch + 1}:\")\n",
    "        print(f\"  Train Loss: {train_loss:.6f}\")\n",
    "        print(f\"  Train MSE: {train_mse:.6f}\")\n",
    "        print(f\"  Train MAE: {train_mae:.6f}\")\n",
    "        print(f\"  Train SSIM: {train_ssim:.4f}\")\n",
    "        \n",
    "        # Visualize a sample prediction\n",
    "        if epoch == num_epochs - 1:\n",
    "            model.eval()\n",
    "            with torch.no_grad():\n",
    "                sample_inputs, sample_targets = next(iter(dataloader))\n",
    "                sample_inputs = sample_inputs[:2].to(device)\n",
    "                sample_preds = model(sample_inputs)\n",
    "                \n",
    "                fig, axes = plt.subplots(2, 2, figsize=(10, 10))\n",
    "                for i in range(2):\n",
    "                    pred_img = sample_preds[i].cpu().numpy().reshape(image_size)\n",
    "                    target_img = sample_targets[i].cpu().numpy().reshape(image_size)\n",
    "                    \n",
    "                    axes[i, 0].imshow(pred_img, cmap='gray')\n",
    "                    axes[i, 0].set_title(f\"Predicted Image {i + 1}\")\n",
    "                    axes[i, 0].axis('off')\n",
    "                    \n",
    "                    axes[i, 1].imshow(target_img, cmap='gray')\n",
    "                    axes[i, 1].set_title(f\"Target Image {i + 1}\")\n",
    "                    axes[i, 1].axis('off')\n",
    "                \n",
    "                plt.show()\n",
    "\n"
   ]
  },
  {
   "cell_type": "code",
   "execution_count": 7,
   "id": "0eddba03-ca40-4d0a-b52a-32f391ff42a1",
   "metadata": {},
   "outputs": [
    {
     "name": "stdout",
     "output_type": "stream",
     "text": [
      "Found 1161 matching image pairs\n"
     ]
    },
    {
     "data": {
      "application/vnd.jupyter.widget-view+json": {
       "model_id": "ff37bdfe41e7461a89e9b84c0137a014",
       "version_major": 2,
       "version_minor": 0
      },
      "text/plain": [
       "config.json:   0%|          | 0.00/69.7k [00:00<?, ?B/s]"
      ]
     },
     "metadata": {},
     "output_type": "display_data"
    },
    {
     "name": "stderr",
     "output_type": "stream",
     "text": [
      "C:\\Users\\User\\anaconda3\\Lib\\site-packages\\huggingface_hub\\file_download.py:143: UserWarning: `huggingface_hub` cache-system uses symlinks by default to efficiently store duplicated files but your machine does not support them in C:\\Users\\User\\.cache\\huggingface\\hub\\models--google--vit-base-patch16-224. Caching files will still work but in a degraded version that might require more space on your disk. This warning can be disabled by setting the `HF_HUB_DISABLE_SYMLINKS_WARNING` environment variable. For more details, see https://huggingface.co/docs/huggingface_hub/how-to-cache#limitations.\n",
      "To support symlinks on Windows, you either need to activate Developer Mode or to run Python as an administrator. In order to activate developer mode, see this article: https://docs.microsoft.com/en-us/windows/apps/get-started/enable-your-device-for-development\n",
      "  warnings.warn(message)\n",
      "Xet Storage is enabled for this repo, but the 'hf_xet' package is not installed. Falling back to regular HTTP download. For better performance, install the package with: `pip install huggingface_hub[hf_xet]` or `pip install hf_xet`\n"
     ]
    },
    {
     "data": {
      "application/vnd.jupyter.widget-view+json": {
       "model_id": "f4d6cd88e8004ee1b3da18a52d602a36",
       "version_major": 2,
       "version_minor": 0
      },
      "text/plain": [
       "(…)dda6f3b8b58e7256e8f44b4ea6aa9696162ccb5d:   0%|          | 0.00/346M [00:00<?, ?B/s]"
      ]
     },
     "metadata": {},
     "output_type": "display_data"
    },
    {
     "name": "stderr",
     "output_type": "stream",
     "text": [
      "Some weights of ViTModel were not initialized from the model checkpoint at google/vit-base-patch16-224 and are newly initialized: ['pooler.dense.bias', 'pooler.dense.weight']\n",
      "You should probably TRAIN this model on a down-stream task to be able to use it for predictions and inference.\n",
      "Epoch 1/10:   0%|                                                                              | 0/146 [00:00<?, ?it/s]\n"
     ]
    },
    {
     "ename": "ValueError",
     "evalue": "Make sure that the channel dimension of the pixel values match with the one set in the configuration. Expected 3 but got 2.",
     "output_type": "error",
     "traceback": [
      "\u001b[1;31m---------------------------------------------------------------------------\u001b[0m",
      "\u001b[1;31mValueError\u001b[0m                                Traceback (most recent call last)",
      "Cell \u001b[1;32mIn[7], line 2\u001b[0m\n\u001b[0;32m      1\u001b[0m \u001b[38;5;28;01mif\u001b[39;00m \u001b[38;5;18m__name__\u001b[39m \u001b[38;5;241m==\u001b[39m \u001b[38;5;124m\"\u001b[39m\u001b[38;5;124m__main__\u001b[39m\u001b[38;5;124m\"\u001b[39m:\n\u001b[1;32m----> 2\u001b[0m     train_model()\n",
      "Cell \u001b[1;32mIn[6], line 25\u001b[0m, in \u001b[0;36mtrain_model\u001b[1;34m()\u001b[0m\n\u001b[0;32m     22\u001b[0m inputs, targets \u001b[38;5;241m=\u001b[39m inputs\u001b[38;5;241m.\u001b[39mto(device), targets\u001b[38;5;241m.\u001b[39mto(device)\n\u001b[0;32m     24\u001b[0m \u001b[38;5;66;03m# Forward pass\u001b[39;00m\n\u001b[1;32m---> 25\u001b[0m outputs \u001b[38;5;241m=\u001b[39m model(inputs)\n\u001b[0;32m     26\u001b[0m loss \u001b[38;5;241m=\u001b[39m criterion(outputs, targets)\n\u001b[0;32m     28\u001b[0m \u001b[38;5;66;03m# Backward pass\u001b[39;00m\n",
      "File \u001b[1;32m~\\anaconda3\\Lib\\site-packages\\torch\\nn\\modules\\module.py:1751\u001b[0m, in \u001b[0;36mModule._wrapped_call_impl\u001b[1;34m(self, *args, **kwargs)\u001b[0m\n\u001b[0;32m   1749\u001b[0m     \u001b[38;5;28;01mreturn\u001b[39;00m \u001b[38;5;28mself\u001b[39m\u001b[38;5;241m.\u001b[39m_compiled_call_impl(\u001b[38;5;241m*\u001b[39margs, \u001b[38;5;241m*\u001b[39m\u001b[38;5;241m*\u001b[39mkwargs)  \u001b[38;5;66;03m# type: ignore[misc]\u001b[39;00m\n\u001b[0;32m   1750\u001b[0m \u001b[38;5;28;01melse\u001b[39;00m:\n\u001b[1;32m-> 1751\u001b[0m     \u001b[38;5;28;01mreturn\u001b[39;00m \u001b[38;5;28mself\u001b[39m\u001b[38;5;241m.\u001b[39m_call_impl(\u001b[38;5;241m*\u001b[39margs, \u001b[38;5;241m*\u001b[39m\u001b[38;5;241m*\u001b[39mkwargs)\n",
      "File \u001b[1;32m~\\anaconda3\\Lib\\site-packages\\torch\\nn\\modules\\module.py:1762\u001b[0m, in \u001b[0;36mModule._call_impl\u001b[1;34m(self, *args, **kwargs)\u001b[0m\n\u001b[0;32m   1757\u001b[0m \u001b[38;5;66;03m# If we don't have any hooks, we want to skip the rest of the logic in\u001b[39;00m\n\u001b[0;32m   1758\u001b[0m \u001b[38;5;66;03m# this function, and just call forward.\u001b[39;00m\n\u001b[0;32m   1759\u001b[0m \u001b[38;5;28;01mif\u001b[39;00m \u001b[38;5;129;01mnot\u001b[39;00m (\u001b[38;5;28mself\u001b[39m\u001b[38;5;241m.\u001b[39m_backward_hooks \u001b[38;5;129;01mor\u001b[39;00m \u001b[38;5;28mself\u001b[39m\u001b[38;5;241m.\u001b[39m_backward_pre_hooks \u001b[38;5;129;01mor\u001b[39;00m \u001b[38;5;28mself\u001b[39m\u001b[38;5;241m.\u001b[39m_forward_hooks \u001b[38;5;129;01mor\u001b[39;00m \u001b[38;5;28mself\u001b[39m\u001b[38;5;241m.\u001b[39m_forward_pre_hooks\n\u001b[0;32m   1760\u001b[0m         \u001b[38;5;129;01mor\u001b[39;00m _global_backward_pre_hooks \u001b[38;5;129;01mor\u001b[39;00m _global_backward_hooks\n\u001b[0;32m   1761\u001b[0m         \u001b[38;5;129;01mor\u001b[39;00m _global_forward_hooks \u001b[38;5;129;01mor\u001b[39;00m _global_forward_pre_hooks):\n\u001b[1;32m-> 1762\u001b[0m     \u001b[38;5;28;01mreturn\u001b[39;00m forward_call(\u001b[38;5;241m*\u001b[39margs, \u001b[38;5;241m*\u001b[39m\u001b[38;5;241m*\u001b[39mkwargs)\n\u001b[0;32m   1764\u001b[0m result \u001b[38;5;241m=\u001b[39m \u001b[38;5;28;01mNone\u001b[39;00m\n\u001b[0;32m   1765\u001b[0m called_always_called_hooks \u001b[38;5;241m=\u001b[39m \u001b[38;5;28mset\u001b[39m()\n",
      "Cell \u001b[1;32mIn[4], line 10\u001b[0m, in \u001b[0;36mViTForImageRegression.forward\u001b[1;34m(self, pixel_values)\u001b[0m\n\u001b[0;32m      9\u001b[0m \u001b[38;5;28;01mdef\u001b[39;00m \u001b[38;5;21mforward\u001b[39m(\u001b[38;5;28mself\u001b[39m, pixel_values):\n\u001b[1;32m---> 10\u001b[0m     outputs \u001b[38;5;241m=\u001b[39m \u001b[38;5;28mself\u001b[39m\u001b[38;5;241m.\u001b[39mvit(pixel_values\u001b[38;5;241m=\u001b[39mpixel_values)\n\u001b[0;32m     11\u001b[0m     pooled_output \u001b[38;5;241m=\u001b[39m outputs\u001b[38;5;241m.\u001b[39mpooler_output  \u001b[38;5;66;03m# [CLS] token\u001b[39;00m\n\u001b[0;32m     12\u001b[0m     \u001b[38;5;28;01mreturn\u001b[39;00m \u001b[38;5;28mself\u001b[39m\u001b[38;5;241m.\u001b[39mregressor(pooled_output)\n",
      "File \u001b[1;32m~\\anaconda3\\Lib\\site-packages\\torch\\nn\\modules\\module.py:1751\u001b[0m, in \u001b[0;36mModule._wrapped_call_impl\u001b[1;34m(self, *args, **kwargs)\u001b[0m\n\u001b[0;32m   1749\u001b[0m     \u001b[38;5;28;01mreturn\u001b[39;00m \u001b[38;5;28mself\u001b[39m\u001b[38;5;241m.\u001b[39m_compiled_call_impl(\u001b[38;5;241m*\u001b[39margs, \u001b[38;5;241m*\u001b[39m\u001b[38;5;241m*\u001b[39mkwargs)  \u001b[38;5;66;03m# type: ignore[misc]\u001b[39;00m\n\u001b[0;32m   1750\u001b[0m \u001b[38;5;28;01melse\u001b[39;00m:\n\u001b[1;32m-> 1751\u001b[0m     \u001b[38;5;28;01mreturn\u001b[39;00m \u001b[38;5;28mself\u001b[39m\u001b[38;5;241m.\u001b[39m_call_impl(\u001b[38;5;241m*\u001b[39margs, \u001b[38;5;241m*\u001b[39m\u001b[38;5;241m*\u001b[39mkwargs)\n",
      "File \u001b[1;32m~\\anaconda3\\Lib\\site-packages\\torch\\nn\\modules\\module.py:1762\u001b[0m, in \u001b[0;36mModule._call_impl\u001b[1;34m(self, *args, **kwargs)\u001b[0m\n\u001b[0;32m   1757\u001b[0m \u001b[38;5;66;03m# If we don't have any hooks, we want to skip the rest of the logic in\u001b[39;00m\n\u001b[0;32m   1758\u001b[0m \u001b[38;5;66;03m# this function, and just call forward.\u001b[39;00m\n\u001b[0;32m   1759\u001b[0m \u001b[38;5;28;01mif\u001b[39;00m \u001b[38;5;129;01mnot\u001b[39;00m (\u001b[38;5;28mself\u001b[39m\u001b[38;5;241m.\u001b[39m_backward_hooks \u001b[38;5;129;01mor\u001b[39;00m \u001b[38;5;28mself\u001b[39m\u001b[38;5;241m.\u001b[39m_backward_pre_hooks \u001b[38;5;129;01mor\u001b[39;00m \u001b[38;5;28mself\u001b[39m\u001b[38;5;241m.\u001b[39m_forward_hooks \u001b[38;5;129;01mor\u001b[39;00m \u001b[38;5;28mself\u001b[39m\u001b[38;5;241m.\u001b[39m_forward_pre_hooks\n\u001b[0;32m   1760\u001b[0m         \u001b[38;5;129;01mor\u001b[39;00m _global_backward_pre_hooks \u001b[38;5;129;01mor\u001b[39;00m _global_backward_hooks\n\u001b[0;32m   1761\u001b[0m         \u001b[38;5;129;01mor\u001b[39;00m _global_forward_hooks \u001b[38;5;129;01mor\u001b[39;00m _global_forward_pre_hooks):\n\u001b[1;32m-> 1762\u001b[0m     \u001b[38;5;28;01mreturn\u001b[39;00m forward_call(\u001b[38;5;241m*\u001b[39margs, \u001b[38;5;241m*\u001b[39m\u001b[38;5;241m*\u001b[39mkwargs)\n\u001b[0;32m   1764\u001b[0m result \u001b[38;5;241m=\u001b[39m \u001b[38;5;28;01mNone\u001b[39;00m\n\u001b[0;32m   1765\u001b[0m called_always_called_hooks \u001b[38;5;241m=\u001b[39m \u001b[38;5;28mset\u001b[39m()\n",
      "File \u001b[1;32m~\\anaconda3\\Lib\\site-packages\\transformers\\models\\vit\\modeling_vit.py:550\u001b[0m, in \u001b[0;36mViTModel.forward\u001b[1;34m(self, pixel_values, bool_masked_pos, head_mask, output_attentions, output_hidden_states, interpolate_pos_encoding, return_dict)\u001b[0m\n\u001b[0;32m    547\u001b[0m \u001b[38;5;28;01mif\u001b[39;00m pixel_values\u001b[38;5;241m.\u001b[39mdtype \u001b[38;5;241m!=\u001b[39m expected_dtype:\n\u001b[0;32m    548\u001b[0m     pixel_values \u001b[38;5;241m=\u001b[39m pixel_values\u001b[38;5;241m.\u001b[39mto(expected_dtype)\n\u001b[1;32m--> 550\u001b[0m embedding_output \u001b[38;5;241m=\u001b[39m \u001b[38;5;28mself\u001b[39m\u001b[38;5;241m.\u001b[39membeddings(\n\u001b[0;32m    551\u001b[0m     pixel_values, bool_masked_pos\u001b[38;5;241m=\u001b[39mbool_masked_pos, interpolate_pos_encoding\u001b[38;5;241m=\u001b[39minterpolate_pos_encoding\n\u001b[0;32m    552\u001b[0m )\n\u001b[0;32m    554\u001b[0m encoder_outputs \u001b[38;5;241m=\u001b[39m \u001b[38;5;28mself\u001b[39m\u001b[38;5;241m.\u001b[39mencoder(\n\u001b[0;32m    555\u001b[0m     embedding_output,\n\u001b[0;32m    556\u001b[0m     head_mask\u001b[38;5;241m=\u001b[39mhead_mask,\n\u001b[1;32m   (...)\u001b[0m\n\u001b[0;32m    559\u001b[0m     return_dict\u001b[38;5;241m=\u001b[39mreturn_dict,\n\u001b[0;32m    560\u001b[0m )\n\u001b[0;32m    561\u001b[0m sequence_output \u001b[38;5;241m=\u001b[39m encoder_outputs[\u001b[38;5;241m0\u001b[39m]\n",
      "File \u001b[1;32m~\\anaconda3\\Lib\\site-packages\\torch\\nn\\modules\\module.py:1751\u001b[0m, in \u001b[0;36mModule._wrapped_call_impl\u001b[1;34m(self, *args, **kwargs)\u001b[0m\n\u001b[0;32m   1749\u001b[0m     \u001b[38;5;28;01mreturn\u001b[39;00m \u001b[38;5;28mself\u001b[39m\u001b[38;5;241m.\u001b[39m_compiled_call_impl(\u001b[38;5;241m*\u001b[39margs, \u001b[38;5;241m*\u001b[39m\u001b[38;5;241m*\u001b[39mkwargs)  \u001b[38;5;66;03m# type: ignore[misc]\u001b[39;00m\n\u001b[0;32m   1750\u001b[0m \u001b[38;5;28;01melse\u001b[39;00m:\n\u001b[1;32m-> 1751\u001b[0m     \u001b[38;5;28;01mreturn\u001b[39;00m \u001b[38;5;28mself\u001b[39m\u001b[38;5;241m.\u001b[39m_call_impl(\u001b[38;5;241m*\u001b[39margs, \u001b[38;5;241m*\u001b[39m\u001b[38;5;241m*\u001b[39mkwargs)\n",
      "File \u001b[1;32m~\\anaconda3\\Lib\\site-packages\\torch\\nn\\modules\\module.py:1762\u001b[0m, in \u001b[0;36mModule._call_impl\u001b[1;34m(self, *args, **kwargs)\u001b[0m\n\u001b[0;32m   1757\u001b[0m \u001b[38;5;66;03m# If we don't have any hooks, we want to skip the rest of the logic in\u001b[39;00m\n\u001b[0;32m   1758\u001b[0m \u001b[38;5;66;03m# this function, and just call forward.\u001b[39;00m\n\u001b[0;32m   1759\u001b[0m \u001b[38;5;28;01mif\u001b[39;00m \u001b[38;5;129;01mnot\u001b[39;00m (\u001b[38;5;28mself\u001b[39m\u001b[38;5;241m.\u001b[39m_backward_hooks \u001b[38;5;129;01mor\u001b[39;00m \u001b[38;5;28mself\u001b[39m\u001b[38;5;241m.\u001b[39m_backward_pre_hooks \u001b[38;5;129;01mor\u001b[39;00m \u001b[38;5;28mself\u001b[39m\u001b[38;5;241m.\u001b[39m_forward_hooks \u001b[38;5;129;01mor\u001b[39;00m \u001b[38;5;28mself\u001b[39m\u001b[38;5;241m.\u001b[39m_forward_pre_hooks\n\u001b[0;32m   1760\u001b[0m         \u001b[38;5;129;01mor\u001b[39;00m _global_backward_pre_hooks \u001b[38;5;129;01mor\u001b[39;00m _global_backward_hooks\n\u001b[0;32m   1761\u001b[0m         \u001b[38;5;129;01mor\u001b[39;00m _global_forward_hooks \u001b[38;5;129;01mor\u001b[39;00m _global_forward_pre_hooks):\n\u001b[1;32m-> 1762\u001b[0m     \u001b[38;5;28;01mreturn\u001b[39;00m forward_call(\u001b[38;5;241m*\u001b[39margs, \u001b[38;5;241m*\u001b[39m\u001b[38;5;241m*\u001b[39mkwargs)\n\u001b[0;32m   1764\u001b[0m result \u001b[38;5;241m=\u001b[39m \u001b[38;5;28;01mNone\u001b[39;00m\n\u001b[0;32m   1765\u001b[0m called_always_called_hooks \u001b[38;5;241m=\u001b[39m \u001b[38;5;28mset\u001b[39m()\n",
      "File \u001b[1;32m~\\anaconda3\\Lib\\site-packages\\transformers\\models\\vit\\modeling_vit.py:106\u001b[0m, in \u001b[0;36mViTEmbeddings.forward\u001b[1;34m(self, pixel_values, bool_masked_pos, interpolate_pos_encoding)\u001b[0m\n\u001b[0;32m     99\u001b[0m \u001b[38;5;28;01mdef\u001b[39;00m \u001b[38;5;21mforward\u001b[39m(\n\u001b[0;32m    100\u001b[0m     \u001b[38;5;28mself\u001b[39m,\n\u001b[0;32m    101\u001b[0m     pixel_values: torch\u001b[38;5;241m.\u001b[39mTensor,\n\u001b[0;32m    102\u001b[0m     bool_masked_pos: Optional[torch\u001b[38;5;241m.\u001b[39mBoolTensor] \u001b[38;5;241m=\u001b[39m \u001b[38;5;28;01mNone\u001b[39;00m,\n\u001b[0;32m    103\u001b[0m     interpolate_pos_encoding: \u001b[38;5;28mbool\u001b[39m \u001b[38;5;241m=\u001b[39m \u001b[38;5;28;01mFalse\u001b[39;00m,\n\u001b[0;32m    104\u001b[0m ) \u001b[38;5;241m-\u001b[39m\u001b[38;5;241m>\u001b[39m torch\u001b[38;5;241m.\u001b[39mTensor:\n\u001b[0;32m    105\u001b[0m     batch_size, num_channels, height, width \u001b[38;5;241m=\u001b[39m pixel_values\u001b[38;5;241m.\u001b[39mshape\n\u001b[1;32m--> 106\u001b[0m     embeddings \u001b[38;5;241m=\u001b[39m \u001b[38;5;28mself\u001b[39m\u001b[38;5;241m.\u001b[39mpatch_embeddings(pixel_values, interpolate_pos_encoding\u001b[38;5;241m=\u001b[39minterpolate_pos_encoding)\n\u001b[0;32m    108\u001b[0m     \u001b[38;5;28;01mif\u001b[39;00m bool_masked_pos \u001b[38;5;129;01mis\u001b[39;00m \u001b[38;5;129;01mnot\u001b[39;00m \u001b[38;5;28;01mNone\u001b[39;00m:\n\u001b[0;32m    109\u001b[0m         seq_length \u001b[38;5;241m=\u001b[39m embeddings\u001b[38;5;241m.\u001b[39mshape[\u001b[38;5;241m1\u001b[39m]\n",
      "File \u001b[1;32m~\\anaconda3\\Lib\\site-packages\\torch\\nn\\modules\\module.py:1751\u001b[0m, in \u001b[0;36mModule._wrapped_call_impl\u001b[1;34m(self, *args, **kwargs)\u001b[0m\n\u001b[0;32m   1749\u001b[0m     \u001b[38;5;28;01mreturn\u001b[39;00m \u001b[38;5;28mself\u001b[39m\u001b[38;5;241m.\u001b[39m_compiled_call_impl(\u001b[38;5;241m*\u001b[39margs, \u001b[38;5;241m*\u001b[39m\u001b[38;5;241m*\u001b[39mkwargs)  \u001b[38;5;66;03m# type: ignore[misc]\u001b[39;00m\n\u001b[0;32m   1750\u001b[0m \u001b[38;5;28;01melse\u001b[39;00m:\n\u001b[1;32m-> 1751\u001b[0m     \u001b[38;5;28;01mreturn\u001b[39;00m \u001b[38;5;28mself\u001b[39m\u001b[38;5;241m.\u001b[39m_call_impl(\u001b[38;5;241m*\u001b[39margs, \u001b[38;5;241m*\u001b[39m\u001b[38;5;241m*\u001b[39mkwargs)\n",
      "File \u001b[1;32m~\\anaconda3\\Lib\\site-packages\\torch\\nn\\modules\\module.py:1762\u001b[0m, in \u001b[0;36mModule._call_impl\u001b[1;34m(self, *args, **kwargs)\u001b[0m\n\u001b[0;32m   1757\u001b[0m \u001b[38;5;66;03m# If we don't have any hooks, we want to skip the rest of the logic in\u001b[39;00m\n\u001b[0;32m   1758\u001b[0m \u001b[38;5;66;03m# this function, and just call forward.\u001b[39;00m\n\u001b[0;32m   1759\u001b[0m \u001b[38;5;28;01mif\u001b[39;00m \u001b[38;5;129;01mnot\u001b[39;00m (\u001b[38;5;28mself\u001b[39m\u001b[38;5;241m.\u001b[39m_backward_hooks \u001b[38;5;129;01mor\u001b[39;00m \u001b[38;5;28mself\u001b[39m\u001b[38;5;241m.\u001b[39m_backward_pre_hooks \u001b[38;5;129;01mor\u001b[39;00m \u001b[38;5;28mself\u001b[39m\u001b[38;5;241m.\u001b[39m_forward_hooks \u001b[38;5;129;01mor\u001b[39;00m \u001b[38;5;28mself\u001b[39m\u001b[38;5;241m.\u001b[39m_forward_pre_hooks\n\u001b[0;32m   1760\u001b[0m         \u001b[38;5;129;01mor\u001b[39;00m _global_backward_pre_hooks \u001b[38;5;129;01mor\u001b[39;00m _global_backward_hooks\n\u001b[0;32m   1761\u001b[0m         \u001b[38;5;129;01mor\u001b[39;00m _global_forward_hooks \u001b[38;5;129;01mor\u001b[39;00m _global_forward_pre_hooks):\n\u001b[1;32m-> 1762\u001b[0m     \u001b[38;5;28;01mreturn\u001b[39;00m forward_call(\u001b[38;5;241m*\u001b[39margs, \u001b[38;5;241m*\u001b[39m\u001b[38;5;241m*\u001b[39mkwargs)\n\u001b[0;32m   1764\u001b[0m result \u001b[38;5;241m=\u001b[39m \u001b[38;5;28;01mNone\u001b[39;00m\n\u001b[0;32m   1765\u001b[0m called_always_called_hooks \u001b[38;5;241m=\u001b[39m \u001b[38;5;28mset\u001b[39m()\n",
      "File \u001b[1;32m~\\anaconda3\\Lib\\site-packages\\transformers\\models\\vit\\modeling_vit.py:155\u001b[0m, in \u001b[0;36mViTPatchEmbeddings.forward\u001b[1;34m(self, pixel_values, interpolate_pos_encoding)\u001b[0m\n\u001b[0;32m    153\u001b[0m batch_size, num_channels, height, width \u001b[38;5;241m=\u001b[39m pixel_values\u001b[38;5;241m.\u001b[39mshape\n\u001b[0;32m    154\u001b[0m \u001b[38;5;28;01mif\u001b[39;00m num_channels \u001b[38;5;241m!=\u001b[39m \u001b[38;5;28mself\u001b[39m\u001b[38;5;241m.\u001b[39mnum_channels:\n\u001b[1;32m--> 155\u001b[0m     \u001b[38;5;28;01mraise\u001b[39;00m \u001b[38;5;167;01mValueError\u001b[39;00m(\n\u001b[0;32m    156\u001b[0m         \u001b[38;5;124m\"\u001b[39m\u001b[38;5;124mMake sure that the channel dimension of the pixel values match with the one set in the configuration.\u001b[39m\u001b[38;5;124m\"\u001b[39m\n\u001b[0;32m    157\u001b[0m         \u001b[38;5;124mf\u001b[39m\u001b[38;5;124m\"\u001b[39m\u001b[38;5;124m Expected \u001b[39m\u001b[38;5;132;01m{\u001b[39;00m\u001b[38;5;28mself\u001b[39m\u001b[38;5;241m.\u001b[39mnum_channels\u001b[38;5;132;01m}\u001b[39;00m\u001b[38;5;124m but got \u001b[39m\u001b[38;5;132;01m{\u001b[39;00mnum_channels\u001b[38;5;132;01m}\u001b[39;00m\u001b[38;5;124m.\u001b[39m\u001b[38;5;124m\"\u001b[39m\n\u001b[0;32m    158\u001b[0m     )\n\u001b[0;32m    159\u001b[0m \u001b[38;5;28;01mif\u001b[39;00m \u001b[38;5;129;01mnot\u001b[39;00m interpolate_pos_encoding:\n\u001b[0;32m    160\u001b[0m     \u001b[38;5;28;01mif\u001b[39;00m height \u001b[38;5;241m!=\u001b[39m \u001b[38;5;28mself\u001b[39m\u001b[38;5;241m.\u001b[39mimage_size[\u001b[38;5;241m0\u001b[39m] \u001b[38;5;129;01mor\u001b[39;00m width \u001b[38;5;241m!=\u001b[39m \u001b[38;5;28mself\u001b[39m\u001b[38;5;241m.\u001b[39mimage_size[\u001b[38;5;241m1\u001b[39m]:\n",
      "\u001b[1;31mValueError\u001b[0m: Make sure that the channel dimension of the pixel values match with the one set in the configuration. Expected 3 but got 2."
     ]
    }
   ],
   "source": [
    "if __name__ == \"__main__\":\n",
    "    train_model()"
   ]
  },
  {
   "cell_type": "code",
   "execution_count": 8,
   "id": "8732066e-8d63-4b5d-8854-c185f37e5f82",
   "metadata": {},
   "outputs": [
    {
     "name": "stdout",
     "output_type": "stream",
     "text": [
      "Requirement already satisfied: torch in c:\\users\\user\\anaconda3\\lib\\site-packages (2.7.1)\n",
      "Requirement already satisfied: transformers in c:\\users\\user\\anaconda3\\lib\\site-packages (4.52.4)\n",
      "Requirement already satisfied: pillow in c:\\users\\user\\anaconda3\\lib\\site-packages (10.4.0)\n",
      "Requirement already satisfied: numpy in c:\\users\\user\\anaconda3\\lib\\site-packages (1.26.4)\n",
      "Requirement already satisfied: scikit-image in c:\\users\\user\\anaconda3\\lib\\site-packages (0.24.0)\n",
      "Requirement already satisfied: scikit-learn in c:\\users\\user\\anaconda3\\lib\\site-packages (1.5.1)\n",
      "Requirement already satisfied: tqdm in c:\\users\\user\\anaconda3\\lib\\site-packages (4.66.5)\n",
      "Requirement already satisfied: filelock in c:\\users\\user\\anaconda3\\lib\\site-packages (from torch) (3.13.1)\n",
      "Requirement already satisfied: typing-extensions>=4.10.0 in c:\\users\\user\\anaconda3\\lib\\site-packages (from torch) (4.11.0)\n",
      "Requirement already satisfied: sympy>=1.13.3 in c:\\users\\user\\anaconda3\\lib\\site-packages (from torch) (1.14.0)\n",
      "Requirement already satisfied: networkx in c:\\users\\user\\anaconda3\\lib\\site-packages (from torch) (3.3)\n",
      "Requirement already satisfied: jinja2 in c:\\users\\user\\anaconda3\\lib\\site-packages (from torch) (3.1.4)\n",
      "Requirement already satisfied: fsspec in c:\\users\\user\\anaconda3\\lib\\site-packages (from torch) (2024.6.1)\n",
      "Requirement already satisfied: setuptools in c:\\users\\user\\anaconda3\\lib\\site-packages (from torch) (75.1.0)\n",
      "Requirement already satisfied: huggingface-hub<1.0,>=0.30.0 in c:\\users\\user\\anaconda3\\lib\\site-packages (from transformers) (0.33.0)\n",
      "Requirement already satisfied: packaging>=20.0 in c:\\users\\user\\anaconda3\\lib\\site-packages (from transformers) (24.1)\n",
      "Requirement already satisfied: pyyaml>=5.1 in c:\\users\\user\\anaconda3\\lib\\site-packages (from transformers) (6.0.1)\n",
      "Requirement already satisfied: regex!=2019.12.17 in c:\\users\\user\\anaconda3\\lib\\site-packages (from transformers) (2024.9.11)\n",
      "Requirement already satisfied: requests in c:\\users\\user\\anaconda3\\lib\\site-packages (from transformers) (2.32.3)\n",
      "Requirement already satisfied: tokenizers<0.22,>=0.21 in c:\\users\\user\\anaconda3\\lib\\site-packages (from transformers) (0.21.1)\n",
      "Requirement already satisfied: safetensors>=0.4.3 in c:\\users\\user\\anaconda3\\lib\\site-packages (from transformers) (0.5.3)\n",
      "Requirement already satisfied: scipy>=1.9 in c:\\users\\user\\anaconda3\\lib\\site-packages (from scikit-image) (1.13.1)\n",
      "Requirement already satisfied: imageio>=2.33 in c:\\users\\user\\anaconda3\\lib\\site-packages (from scikit-image) (2.33.1)\n",
      "Requirement already satisfied: tifffile>=2022.8.12 in c:\\users\\user\\anaconda3\\lib\\site-packages (from scikit-image) (2023.4.12)\n",
      "Requirement already satisfied: lazy-loader>=0.4 in c:\\users\\user\\anaconda3\\lib\\site-packages (from scikit-image) (0.4)\n",
      "Requirement already satisfied: joblib>=1.2.0 in c:\\users\\user\\anaconda3\\lib\\site-packages (from scikit-learn) (1.4.2)\n",
      "Requirement already satisfied: threadpoolctl>=3.1.0 in c:\\users\\user\\anaconda3\\lib\\site-packages (from scikit-learn) (3.5.0)\n",
      "Requirement already satisfied: colorama in c:\\users\\user\\anaconda3\\lib\\site-packages (from tqdm) (0.4.6)\n",
      "Requirement already satisfied: mpmath<1.4,>=1.1.0 in c:\\users\\user\\anaconda3\\lib\\site-packages (from sympy>=1.13.3->torch) (1.3.0)\n",
      "Requirement already satisfied: MarkupSafe>=2.0 in c:\\users\\user\\anaconda3\\lib\\site-packages (from jinja2->torch) (2.1.3)\n",
      "Requirement already satisfied: charset-normalizer<4,>=2 in c:\\users\\user\\anaconda3\\lib\\site-packages (from requests->transformers) (3.3.2)\n",
      "Requirement already satisfied: idna<4,>=2.5 in c:\\users\\user\\anaconda3\\lib\\site-packages (from requests->transformers) (3.7)\n",
      "Requirement already satisfied: urllib3<3,>=1.21.1 in c:\\users\\user\\anaconda3\\lib\\site-packages (from requests->transformers) (2.2.3)\n",
      "Requirement already satisfied: certifi>=2017.4.17 in c:\\users\\user\\anaconda3\\lib\\site-packages (from requests->transformers) (2024.8.30)\n",
      "Note: you may need to restart the kernel to use updated packages.\n"
     ]
    }
   ],
   "source": [
    "pip install torch transformers pillow numpy scikit-image scikit-learn tqdm"
   ]
  },
  {
   "cell_type": "code",
   "execution_count": 2,
   "id": "40ffa381-b9de-4ccf-9305-f5a7fe00cd05",
   "metadata": {},
   "outputs": [
    {
     "name": "stdout",
     "output_type": "stream",
     "text": [
      "Collecting hf_xet\n",
      "  Downloading hf_xet-1.1.5-cp37-abi3-win_amd64.whl.metadata (883 bytes)\n",
      "Downloading hf_xet-1.1.5-cp37-abi3-win_amd64.whl (2.7 MB)\n",
      "   ---------------------------------------- 0.0/2.7 MB ? eta -:--:--\n",
      "   --- ------------------------------------ 0.3/2.7 MB ? eta -:--:--\n",
      "   -------------------------- ------------- 1.8/2.7 MB 6.7 MB/s eta 0:00:01\n",
      "   ---------------------------------------- 2.7/2.7 MB 7.9 MB/s eta 0:00:00\n",
      "Installing collected packages: hf_xet\n",
      "Successfully installed hf_xet-1.1.5\n",
      "Note: you may need to restart the kernel to use updated packages.\n"
     ]
    }
   ],
   "source": [
    "pip install hf_xet"
   ]
  },
  {
   "cell_type": "code",
   "execution_count": 1,
   "id": "9c12ea18-1471-4e69-98c5-98b21092e757",
   "metadata": {},
   "outputs": [
    {
     "name": "stdout",
     "output_type": "stream",
     "text": [
      "Found 1161 matching image pairs\n"
     ]
    },
    {
     "name": "stderr",
     "output_type": "stream",
     "text": [
      "Epoch 1/10:   0%|                                                                              | 0/116 [00:00<?, ?it/s]\n"
     ]
    },
    {
     "ename": "ValueError",
     "evalue": "Input image size (32*32) doesn't match model (50*50).",
     "output_type": "error",
     "traceback": [
      "\u001b[1;31m---------------------------------------------------------------------------\u001b[0m",
      "\u001b[1;31mValueError\u001b[0m                                Traceback (most recent call last)",
      "Cell \u001b[1;32mIn[1], line 209\u001b[0m\n\u001b[0;32m    206\u001b[0m                 plt\u001b[38;5;241m.\u001b[39mshow()\n\u001b[0;32m    208\u001b[0m \u001b[38;5;28;01mif\u001b[39;00m \u001b[38;5;18m__name__\u001b[39m \u001b[38;5;241m==\u001b[39m \u001b[38;5;124m\"\u001b[39m\u001b[38;5;124m__main__\u001b[39m\u001b[38;5;124m\"\u001b[39m:\n\u001b[1;32m--> 209\u001b[0m     train_model()\n",
      "Cell \u001b[1;32mIn[1], line 135\u001b[0m, in \u001b[0;36mtrain_model\u001b[1;34m()\u001b[0m\n\u001b[0;32m    132\u001b[0m inputs, targets \u001b[38;5;241m=\u001b[39m inputs\u001b[38;5;241m.\u001b[39mto(device), targets\u001b[38;5;241m.\u001b[39mto(device)\n\u001b[0;32m    134\u001b[0m \u001b[38;5;66;03m# Forward pass\u001b[39;00m\n\u001b[1;32m--> 135\u001b[0m outputs \u001b[38;5;241m=\u001b[39m model(inputs)\n\u001b[0;32m    136\u001b[0m loss \u001b[38;5;241m=\u001b[39m criterion(outputs, targets)\n\u001b[0;32m    138\u001b[0m \u001b[38;5;66;03m# Backward pass\u001b[39;00m\n",
      "File \u001b[1;32m~\\anaconda3\\Lib\\site-packages\\torch\\nn\\modules\\module.py:1751\u001b[0m, in \u001b[0;36mModule._wrapped_call_impl\u001b[1;34m(self, *args, **kwargs)\u001b[0m\n\u001b[0;32m   1749\u001b[0m     \u001b[38;5;28;01mreturn\u001b[39;00m \u001b[38;5;28mself\u001b[39m\u001b[38;5;241m.\u001b[39m_compiled_call_impl(\u001b[38;5;241m*\u001b[39margs, \u001b[38;5;241m*\u001b[39m\u001b[38;5;241m*\u001b[39mkwargs)  \u001b[38;5;66;03m# type: ignore[misc]\u001b[39;00m\n\u001b[0;32m   1750\u001b[0m \u001b[38;5;28;01melse\u001b[39;00m:\n\u001b[1;32m-> 1751\u001b[0m     \u001b[38;5;28;01mreturn\u001b[39;00m \u001b[38;5;28mself\u001b[39m\u001b[38;5;241m.\u001b[39m_call_impl(\u001b[38;5;241m*\u001b[39margs, \u001b[38;5;241m*\u001b[39m\u001b[38;5;241m*\u001b[39mkwargs)\n",
      "File \u001b[1;32m~\\anaconda3\\Lib\\site-packages\\torch\\nn\\modules\\module.py:1762\u001b[0m, in \u001b[0;36mModule._call_impl\u001b[1;34m(self, *args, **kwargs)\u001b[0m\n\u001b[0;32m   1757\u001b[0m \u001b[38;5;66;03m# If we don't have any hooks, we want to skip the rest of the logic in\u001b[39;00m\n\u001b[0;32m   1758\u001b[0m \u001b[38;5;66;03m# this function, and just call forward.\u001b[39;00m\n\u001b[0;32m   1759\u001b[0m \u001b[38;5;28;01mif\u001b[39;00m \u001b[38;5;129;01mnot\u001b[39;00m (\u001b[38;5;28mself\u001b[39m\u001b[38;5;241m.\u001b[39m_backward_hooks \u001b[38;5;129;01mor\u001b[39;00m \u001b[38;5;28mself\u001b[39m\u001b[38;5;241m.\u001b[39m_backward_pre_hooks \u001b[38;5;129;01mor\u001b[39;00m \u001b[38;5;28mself\u001b[39m\u001b[38;5;241m.\u001b[39m_forward_hooks \u001b[38;5;129;01mor\u001b[39;00m \u001b[38;5;28mself\u001b[39m\u001b[38;5;241m.\u001b[39m_forward_pre_hooks\n\u001b[0;32m   1760\u001b[0m         \u001b[38;5;129;01mor\u001b[39;00m _global_backward_pre_hooks \u001b[38;5;129;01mor\u001b[39;00m _global_backward_hooks\n\u001b[0;32m   1761\u001b[0m         \u001b[38;5;129;01mor\u001b[39;00m _global_forward_hooks \u001b[38;5;129;01mor\u001b[39;00m _global_forward_pre_hooks):\n\u001b[1;32m-> 1762\u001b[0m     \u001b[38;5;28;01mreturn\u001b[39;00m forward_call(\u001b[38;5;241m*\u001b[39margs, \u001b[38;5;241m*\u001b[39m\u001b[38;5;241m*\u001b[39mkwargs)\n\u001b[0;32m   1764\u001b[0m result \u001b[38;5;241m=\u001b[39m \u001b[38;5;28;01mNone\u001b[39;00m\n\u001b[0;32m   1765\u001b[0m called_always_called_hooks \u001b[38;5;241m=\u001b[39m \u001b[38;5;28mset\u001b[39m()\n",
      "Cell \u001b[1;32mIn[1], line 92\u001b[0m, in \u001b[0;36mViTForImageRegression.forward\u001b[1;34m(self, pixel_values)\u001b[0m\n\u001b[0;32m     91\u001b[0m \u001b[38;5;28;01mdef\u001b[39;00m \u001b[38;5;21mforward\u001b[39m(\u001b[38;5;28mself\u001b[39m, pixel_values):\n\u001b[1;32m---> 92\u001b[0m     outputs \u001b[38;5;241m=\u001b[39m \u001b[38;5;28mself\u001b[39m\u001b[38;5;241m.\u001b[39mvit(pixel_values\u001b[38;5;241m=\u001b[39mpixel_values)\n\u001b[0;32m     93\u001b[0m     pooled_output \u001b[38;5;241m=\u001b[39m outputs\u001b[38;5;241m.\u001b[39mpooler_output\n\u001b[0;32m     94\u001b[0m     \u001b[38;5;28;01mreturn\u001b[39;00m \u001b[38;5;28mself\u001b[39m\u001b[38;5;241m.\u001b[39mregressor(pooled_output)\n",
      "File \u001b[1;32m~\\anaconda3\\Lib\\site-packages\\torch\\nn\\modules\\module.py:1751\u001b[0m, in \u001b[0;36mModule._wrapped_call_impl\u001b[1;34m(self, *args, **kwargs)\u001b[0m\n\u001b[0;32m   1749\u001b[0m     \u001b[38;5;28;01mreturn\u001b[39;00m \u001b[38;5;28mself\u001b[39m\u001b[38;5;241m.\u001b[39m_compiled_call_impl(\u001b[38;5;241m*\u001b[39margs, \u001b[38;5;241m*\u001b[39m\u001b[38;5;241m*\u001b[39mkwargs)  \u001b[38;5;66;03m# type: ignore[misc]\u001b[39;00m\n\u001b[0;32m   1750\u001b[0m \u001b[38;5;28;01melse\u001b[39;00m:\n\u001b[1;32m-> 1751\u001b[0m     \u001b[38;5;28;01mreturn\u001b[39;00m \u001b[38;5;28mself\u001b[39m\u001b[38;5;241m.\u001b[39m_call_impl(\u001b[38;5;241m*\u001b[39margs, \u001b[38;5;241m*\u001b[39m\u001b[38;5;241m*\u001b[39mkwargs)\n",
      "File \u001b[1;32m~\\anaconda3\\Lib\\site-packages\\torch\\nn\\modules\\module.py:1762\u001b[0m, in \u001b[0;36mModule._call_impl\u001b[1;34m(self, *args, **kwargs)\u001b[0m\n\u001b[0;32m   1757\u001b[0m \u001b[38;5;66;03m# If we don't have any hooks, we want to skip the rest of the logic in\u001b[39;00m\n\u001b[0;32m   1758\u001b[0m \u001b[38;5;66;03m# this function, and just call forward.\u001b[39;00m\n\u001b[0;32m   1759\u001b[0m \u001b[38;5;28;01mif\u001b[39;00m \u001b[38;5;129;01mnot\u001b[39;00m (\u001b[38;5;28mself\u001b[39m\u001b[38;5;241m.\u001b[39m_backward_hooks \u001b[38;5;129;01mor\u001b[39;00m \u001b[38;5;28mself\u001b[39m\u001b[38;5;241m.\u001b[39m_backward_pre_hooks \u001b[38;5;129;01mor\u001b[39;00m \u001b[38;5;28mself\u001b[39m\u001b[38;5;241m.\u001b[39m_forward_hooks \u001b[38;5;129;01mor\u001b[39;00m \u001b[38;5;28mself\u001b[39m\u001b[38;5;241m.\u001b[39m_forward_pre_hooks\n\u001b[0;32m   1760\u001b[0m         \u001b[38;5;129;01mor\u001b[39;00m _global_backward_pre_hooks \u001b[38;5;129;01mor\u001b[39;00m _global_backward_hooks\n\u001b[0;32m   1761\u001b[0m         \u001b[38;5;129;01mor\u001b[39;00m _global_forward_hooks \u001b[38;5;129;01mor\u001b[39;00m _global_forward_pre_hooks):\n\u001b[1;32m-> 1762\u001b[0m     \u001b[38;5;28;01mreturn\u001b[39;00m forward_call(\u001b[38;5;241m*\u001b[39margs, \u001b[38;5;241m*\u001b[39m\u001b[38;5;241m*\u001b[39mkwargs)\n\u001b[0;32m   1764\u001b[0m result \u001b[38;5;241m=\u001b[39m \u001b[38;5;28;01mNone\u001b[39;00m\n\u001b[0;32m   1765\u001b[0m called_always_called_hooks \u001b[38;5;241m=\u001b[39m \u001b[38;5;28mset\u001b[39m()\n",
      "File \u001b[1;32m~\\anaconda3\\Lib\\site-packages\\transformers\\models\\vit\\modeling_vit.py:550\u001b[0m, in \u001b[0;36mViTModel.forward\u001b[1;34m(self, pixel_values, bool_masked_pos, head_mask, output_attentions, output_hidden_states, interpolate_pos_encoding, return_dict)\u001b[0m\n\u001b[0;32m    547\u001b[0m \u001b[38;5;28;01mif\u001b[39;00m pixel_values\u001b[38;5;241m.\u001b[39mdtype \u001b[38;5;241m!=\u001b[39m expected_dtype:\n\u001b[0;32m    548\u001b[0m     pixel_values \u001b[38;5;241m=\u001b[39m pixel_values\u001b[38;5;241m.\u001b[39mto(expected_dtype)\n\u001b[1;32m--> 550\u001b[0m embedding_output \u001b[38;5;241m=\u001b[39m \u001b[38;5;28mself\u001b[39m\u001b[38;5;241m.\u001b[39membeddings(\n\u001b[0;32m    551\u001b[0m     pixel_values, bool_masked_pos\u001b[38;5;241m=\u001b[39mbool_masked_pos, interpolate_pos_encoding\u001b[38;5;241m=\u001b[39minterpolate_pos_encoding\n\u001b[0;32m    552\u001b[0m )\n\u001b[0;32m    554\u001b[0m encoder_outputs \u001b[38;5;241m=\u001b[39m \u001b[38;5;28mself\u001b[39m\u001b[38;5;241m.\u001b[39mencoder(\n\u001b[0;32m    555\u001b[0m     embedding_output,\n\u001b[0;32m    556\u001b[0m     head_mask\u001b[38;5;241m=\u001b[39mhead_mask,\n\u001b[1;32m   (...)\u001b[0m\n\u001b[0;32m    559\u001b[0m     return_dict\u001b[38;5;241m=\u001b[39mreturn_dict,\n\u001b[0;32m    560\u001b[0m )\n\u001b[0;32m    561\u001b[0m sequence_output \u001b[38;5;241m=\u001b[39m encoder_outputs[\u001b[38;5;241m0\u001b[39m]\n",
      "File \u001b[1;32m~\\anaconda3\\Lib\\site-packages\\torch\\nn\\modules\\module.py:1751\u001b[0m, in \u001b[0;36mModule._wrapped_call_impl\u001b[1;34m(self, *args, **kwargs)\u001b[0m\n\u001b[0;32m   1749\u001b[0m     \u001b[38;5;28;01mreturn\u001b[39;00m \u001b[38;5;28mself\u001b[39m\u001b[38;5;241m.\u001b[39m_compiled_call_impl(\u001b[38;5;241m*\u001b[39margs, \u001b[38;5;241m*\u001b[39m\u001b[38;5;241m*\u001b[39mkwargs)  \u001b[38;5;66;03m# type: ignore[misc]\u001b[39;00m\n\u001b[0;32m   1750\u001b[0m \u001b[38;5;28;01melse\u001b[39;00m:\n\u001b[1;32m-> 1751\u001b[0m     \u001b[38;5;28;01mreturn\u001b[39;00m \u001b[38;5;28mself\u001b[39m\u001b[38;5;241m.\u001b[39m_call_impl(\u001b[38;5;241m*\u001b[39margs, \u001b[38;5;241m*\u001b[39m\u001b[38;5;241m*\u001b[39mkwargs)\n",
      "File \u001b[1;32m~\\anaconda3\\Lib\\site-packages\\torch\\nn\\modules\\module.py:1762\u001b[0m, in \u001b[0;36mModule._call_impl\u001b[1;34m(self, *args, **kwargs)\u001b[0m\n\u001b[0;32m   1757\u001b[0m \u001b[38;5;66;03m# If we don't have any hooks, we want to skip the rest of the logic in\u001b[39;00m\n\u001b[0;32m   1758\u001b[0m \u001b[38;5;66;03m# this function, and just call forward.\u001b[39;00m\n\u001b[0;32m   1759\u001b[0m \u001b[38;5;28;01mif\u001b[39;00m \u001b[38;5;129;01mnot\u001b[39;00m (\u001b[38;5;28mself\u001b[39m\u001b[38;5;241m.\u001b[39m_backward_hooks \u001b[38;5;129;01mor\u001b[39;00m \u001b[38;5;28mself\u001b[39m\u001b[38;5;241m.\u001b[39m_backward_pre_hooks \u001b[38;5;129;01mor\u001b[39;00m \u001b[38;5;28mself\u001b[39m\u001b[38;5;241m.\u001b[39m_forward_hooks \u001b[38;5;129;01mor\u001b[39;00m \u001b[38;5;28mself\u001b[39m\u001b[38;5;241m.\u001b[39m_forward_pre_hooks\n\u001b[0;32m   1760\u001b[0m         \u001b[38;5;129;01mor\u001b[39;00m _global_backward_pre_hooks \u001b[38;5;129;01mor\u001b[39;00m _global_backward_hooks\n\u001b[0;32m   1761\u001b[0m         \u001b[38;5;129;01mor\u001b[39;00m _global_forward_hooks \u001b[38;5;129;01mor\u001b[39;00m _global_forward_pre_hooks):\n\u001b[1;32m-> 1762\u001b[0m     \u001b[38;5;28;01mreturn\u001b[39;00m forward_call(\u001b[38;5;241m*\u001b[39margs, \u001b[38;5;241m*\u001b[39m\u001b[38;5;241m*\u001b[39mkwargs)\n\u001b[0;32m   1764\u001b[0m result \u001b[38;5;241m=\u001b[39m \u001b[38;5;28;01mNone\u001b[39;00m\n\u001b[0;32m   1765\u001b[0m called_always_called_hooks \u001b[38;5;241m=\u001b[39m \u001b[38;5;28mset\u001b[39m()\n",
      "File \u001b[1;32m~\\anaconda3\\Lib\\site-packages\\transformers\\models\\vit\\modeling_vit.py:106\u001b[0m, in \u001b[0;36mViTEmbeddings.forward\u001b[1;34m(self, pixel_values, bool_masked_pos, interpolate_pos_encoding)\u001b[0m\n\u001b[0;32m     99\u001b[0m \u001b[38;5;28;01mdef\u001b[39;00m \u001b[38;5;21mforward\u001b[39m(\n\u001b[0;32m    100\u001b[0m     \u001b[38;5;28mself\u001b[39m,\n\u001b[0;32m    101\u001b[0m     pixel_values: torch\u001b[38;5;241m.\u001b[39mTensor,\n\u001b[0;32m    102\u001b[0m     bool_masked_pos: Optional[torch\u001b[38;5;241m.\u001b[39mBoolTensor] \u001b[38;5;241m=\u001b[39m \u001b[38;5;28;01mNone\u001b[39;00m,\n\u001b[0;32m    103\u001b[0m     interpolate_pos_encoding: \u001b[38;5;28mbool\u001b[39m \u001b[38;5;241m=\u001b[39m \u001b[38;5;28;01mFalse\u001b[39;00m,\n\u001b[0;32m    104\u001b[0m ) \u001b[38;5;241m-\u001b[39m\u001b[38;5;241m>\u001b[39m torch\u001b[38;5;241m.\u001b[39mTensor:\n\u001b[0;32m    105\u001b[0m     batch_size, num_channels, height, width \u001b[38;5;241m=\u001b[39m pixel_values\u001b[38;5;241m.\u001b[39mshape\n\u001b[1;32m--> 106\u001b[0m     embeddings \u001b[38;5;241m=\u001b[39m \u001b[38;5;28mself\u001b[39m\u001b[38;5;241m.\u001b[39mpatch_embeddings(pixel_values, interpolate_pos_encoding\u001b[38;5;241m=\u001b[39minterpolate_pos_encoding)\n\u001b[0;32m    108\u001b[0m     \u001b[38;5;28;01mif\u001b[39;00m bool_masked_pos \u001b[38;5;129;01mis\u001b[39;00m \u001b[38;5;129;01mnot\u001b[39;00m \u001b[38;5;28;01mNone\u001b[39;00m:\n\u001b[0;32m    109\u001b[0m         seq_length \u001b[38;5;241m=\u001b[39m embeddings\u001b[38;5;241m.\u001b[39mshape[\u001b[38;5;241m1\u001b[39m]\n",
      "File \u001b[1;32m~\\anaconda3\\Lib\\site-packages\\torch\\nn\\modules\\module.py:1751\u001b[0m, in \u001b[0;36mModule._wrapped_call_impl\u001b[1;34m(self, *args, **kwargs)\u001b[0m\n\u001b[0;32m   1749\u001b[0m     \u001b[38;5;28;01mreturn\u001b[39;00m \u001b[38;5;28mself\u001b[39m\u001b[38;5;241m.\u001b[39m_compiled_call_impl(\u001b[38;5;241m*\u001b[39margs, \u001b[38;5;241m*\u001b[39m\u001b[38;5;241m*\u001b[39mkwargs)  \u001b[38;5;66;03m# type: ignore[misc]\u001b[39;00m\n\u001b[0;32m   1750\u001b[0m \u001b[38;5;28;01melse\u001b[39;00m:\n\u001b[1;32m-> 1751\u001b[0m     \u001b[38;5;28;01mreturn\u001b[39;00m \u001b[38;5;28mself\u001b[39m\u001b[38;5;241m.\u001b[39m_call_impl(\u001b[38;5;241m*\u001b[39margs, \u001b[38;5;241m*\u001b[39m\u001b[38;5;241m*\u001b[39mkwargs)\n",
      "File \u001b[1;32m~\\anaconda3\\Lib\\site-packages\\torch\\nn\\modules\\module.py:1762\u001b[0m, in \u001b[0;36mModule._call_impl\u001b[1;34m(self, *args, **kwargs)\u001b[0m\n\u001b[0;32m   1757\u001b[0m \u001b[38;5;66;03m# If we don't have any hooks, we want to skip the rest of the logic in\u001b[39;00m\n\u001b[0;32m   1758\u001b[0m \u001b[38;5;66;03m# this function, and just call forward.\u001b[39;00m\n\u001b[0;32m   1759\u001b[0m \u001b[38;5;28;01mif\u001b[39;00m \u001b[38;5;129;01mnot\u001b[39;00m (\u001b[38;5;28mself\u001b[39m\u001b[38;5;241m.\u001b[39m_backward_hooks \u001b[38;5;129;01mor\u001b[39;00m \u001b[38;5;28mself\u001b[39m\u001b[38;5;241m.\u001b[39m_backward_pre_hooks \u001b[38;5;129;01mor\u001b[39;00m \u001b[38;5;28mself\u001b[39m\u001b[38;5;241m.\u001b[39m_forward_hooks \u001b[38;5;129;01mor\u001b[39;00m \u001b[38;5;28mself\u001b[39m\u001b[38;5;241m.\u001b[39m_forward_pre_hooks\n\u001b[0;32m   1760\u001b[0m         \u001b[38;5;129;01mor\u001b[39;00m _global_backward_pre_hooks \u001b[38;5;129;01mor\u001b[39;00m _global_backward_hooks\n\u001b[0;32m   1761\u001b[0m         \u001b[38;5;129;01mor\u001b[39;00m _global_forward_hooks \u001b[38;5;129;01mor\u001b[39;00m _global_forward_pre_hooks):\n\u001b[1;32m-> 1762\u001b[0m     \u001b[38;5;28;01mreturn\u001b[39;00m forward_call(\u001b[38;5;241m*\u001b[39margs, \u001b[38;5;241m*\u001b[39m\u001b[38;5;241m*\u001b[39mkwargs)\n\u001b[0;32m   1764\u001b[0m result \u001b[38;5;241m=\u001b[39m \u001b[38;5;28;01mNone\u001b[39;00m\n\u001b[0;32m   1765\u001b[0m called_always_called_hooks \u001b[38;5;241m=\u001b[39m \u001b[38;5;28mset\u001b[39m()\n",
      "File \u001b[1;32m~\\anaconda3\\Lib\\site-packages\\transformers\\models\\vit\\modeling_vit.py:161\u001b[0m, in \u001b[0;36mViTPatchEmbeddings.forward\u001b[1;34m(self, pixel_values, interpolate_pos_encoding)\u001b[0m\n\u001b[0;32m    159\u001b[0m \u001b[38;5;28;01mif\u001b[39;00m \u001b[38;5;129;01mnot\u001b[39;00m interpolate_pos_encoding:\n\u001b[0;32m    160\u001b[0m     \u001b[38;5;28;01mif\u001b[39;00m height \u001b[38;5;241m!=\u001b[39m \u001b[38;5;28mself\u001b[39m\u001b[38;5;241m.\u001b[39mimage_size[\u001b[38;5;241m0\u001b[39m] \u001b[38;5;129;01mor\u001b[39;00m width \u001b[38;5;241m!=\u001b[39m \u001b[38;5;28mself\u001b[39m\u001b[38;5;241m.\u001b[39mimage_size[\u001b[38;5;241m1\u001b[39m]:\n\u001b[1;32m--> 161\u001b[0m         \u001b[38;5;28;01mraise\u001b[39;00m \u001b[38;5;167;01mValueError\u001b[39;00m(\n\u001b[0;32m    162\u001b[0m             \u001b[38;5;124mf\u001b[39m\u001b[38;5;124m\"\u001b[39m\u001b[38;5;124mInput image size (\u001b[39m\u001b[38;5;132;01m{\u001b[39;00mheight\u001b[38;5;132;01m}\u001b[39;00m\u001b[38;5;124m*\u001b[39m\u001b[38;5;132;01m{\u001b[39;00mwidth\u001b[38;5;132;01m}\u001b[39;00m\u001b[38;5;124m) doesn\u001b[39m\u001b[38;5;124m'\u001b[39m\u001b[38;5;124mt match model\u001b[39m\u001b[38;5;124m\"\u001b[39m\n\u001b[0;32m    163\u001b[0m             \u001b[38;5;124mf\u001b[39m\u001b[38;5;124m\"\u001b[39m\u001b[38;5;124m (\u001b[39m\u001b[38;5;132;01m{\u001b[39;00m\u001b[38;5;28mself\u001b[39m\u001b[38;5;241m.\u001b[39mimage_size[\u001b[38;5;241m0\u001b[39m]\u001b[38;5;132;01m}\u001b[39;00m\u001b[38;5;124m*\u001b[39m\u001b[38;5;132;01m{\u001b[39;00m\u001b[38;5;28mself\u001b[39m\u001b[38;5;241m.\u001b[39mimage_size[\u001b[38;5;241m1\u001b[39m]\u001b[38;5;132;01m}\u001b[39;00m\u001b[38;5;124m).\u001b[39m\u001b[38;5;124m\"\u001b[39m\n\u001b[0;32m    164\u001b[0m         )\n\u001b[0;32m    165\u001b[0m embeddings \u001b[38;5;241m=\u001b[39m \u001b[38;5;28mself\u001b[39m\u001b[38;5;241m.\u001b[39mprojection(pixel_values)\u001b[38;5;241m.\u001b[39mflatten(\u001b[38;5;241m2\u001b[39m)\u001b[38;5;241m.\u001b[39mtranspose(\u001b[38;5;241m1\u001b[39m, \u001b[38;5;241m2\u001b[39m)\n\u001b[0;32m    166\u001b[0m \u001b[38;5;28;01mreturn\u001b[39;00m embeddings\n",
      "\u001b[1;31mValueError\u001b[0m: Input image size (32*32) doesn't match model (50*50)."
     ]
    }
   ],
   "source": [
    "import os\n",
    "import re\n",
    "import numpy as np\n",
    "from PIL import Image\n",
    "import torch\n",
    "from torch import nn\n",
    "from torch.utils.data import Dataset, DataLoader, random_split\n",
    "from transformers import ViTModel, ViTConfig\n",
    "from sklearn.metrics import mean_squared_error, mean_absolute_error\n",
    "from skimage.metrics import structural_similarity as ssim\n",
    "import matplotlib.pyplot as plt\n",
    "from tqdm import tqdm\n",
    "\n",
    "# Configuration\n",
    "data_dir = r\"F:/Education/NSU/CSE/CSE499/Implementation/Image Data\"\n",
    "gray_image_dir = os.path.join(data_dir, \"gray_image\")\n",
    "even_dir = os.path.join(gray_image_dir, \"even_images\")\n",
    "odd_dir = os.path.join(gray_image_dir, \"odd_images\")\n",
    "matrix_dir = os.path.join(data_dir, \"matrix\")\n",
    "image_size = (50, 50)\n",
    "batch_size = 8\n",
    "num_epochs = 10\n",
    "learning_rate = 2e-5\n",
    "train_split = 0.8  # 80% train, 20% test\n",
    "device = torch.device(\"cuda\" if torch.cuda.is_available() else \"cpu\")\n",
    "\n",
    "# Custom Dataset\n",
    "class ImagePairDataset(Dataset):\n",
    "    def __init__(self, even_dir, odd_dir, matrix_dir):\n",
    "        self.even_dir = even_dir\n",
    "        self.odd_dir = odd_dir\n",
    "        self.matrix_dir = matrix_dir\n",
    "        \n",
    "        # Get list of image IDs\n",
    "        even_files = [f for f in os.listdir(even_dir) if f.endswith(\"_even.png\")]\n",
    "        self.ids = []\n",
    "        for f in even_files:\n",
    "            match = re.match(r\"(\\d+)_even\\.png\", f)\n",
    "            if match:\n",
    "                id_str = match.group(1)\n",
    "                odd_file = f\"{id_str}_odd.png\"\n",
    "                matrix_file = f\"{id_str}.png\"\n",
    "                if (os.path.exists(os.path.join(odd_dir, odd_file)) and \n",
    "                    os.path.exists(os.path.join(matrix_dir, matrix_file))):\n",
    "                    self.ids.append(id_str)\n",
    "        \n",
    "        print(f\"Found {len(self.ids)} matching image pairs\")\n",
    "        \n",
    "    def __len__(self):\n",
    "        return len(self.ids)\n",
    "    \n",
    "    def __getitem__(self, idx):\n",
    "        id_str = self.ids[idx]\n",
    "        \n",
    "        # Load images\n",
    "        even_img = Image.open(os.path.join(self.even_dir, f\"{id_str}_even.png\")).convert(\"L\")\n",
    "        odd_img = Image.open(os.path.join(self.odd_dir, f\"{id_str}_odd.png\")).convert(\"L\")\n",
    "        matrix_img = Image.open(os.path.join(self.matrix_dir, f\"{id_str}.png\")).convert(\"L\")\n",
    "        \n",
    "        # Convert to numpy and normalize\n",
    "        even_img = np.array(even_img, dtype=np.float32) / 255.0\n",
    "        odd_img = np.array(odd_img, dtype=np.float32) / 255.0\n",
    "        matrix_img = np.array(matrix_img, dtype=np.float32) / 255.0\n",
    "        \n",
    "        # Combine into 2-channel input\n",
    "        input_img = np.stack([even_img, odd_img], axis=2)  # Shape: (50, 50, 2)\n",
    "        \n",
    "        # Convert to torch tensors\n",
    "        input_img = torch.tensor(input_img).permute(2, 0, 1)  # Shape: (2, 50, 50)\n",
    "        matrix_img = torch.tensor(matrix_img).flatten()  # Shape: (2500,)\n",
    "        \n",
    "        return input_img, matrix_img\n",
    "\n",
    "# Custom ViT Model for Regression\n",
    "class ViTForImageRegression(nn.Module):\n",
    "    def __init__(self):\n",
    "        super(ViTForImageRegression, self).__init__()\n",
    "        # Custom ViT configuration for 2-channel 50x50 images\n",
    "        config = ViTConfig(\n",
    "            image_size=50,\n",
    "            patch_size=10,  # 50x50 divides evenly into 5x5 patches\n",
    "            num_channels=2,  # 2-channel input\n",
    "            hidden_size=768,\n",
    "            num_hidden_layers=12,\n",
    "            num_attention_heads=12,\n",
    "            intermediate_size=3072\n",
    "        )\n",
    "        self.vit = ViTModel(config)\n",
    "        self.regressor = nn.Linear(config.hidden_size, 50 * 50)  # Output 50x50 pixels\n",
    "    \n",
    "    def forward(self, pixel_values):\n",
    "        outputs = self.vit(pixel_values=pixel_values)\n",
    "        pooled_output = outputs.pooler_output\n",
    "        return self.regressor(pooled_output)\n",
    "\n",
    "# Compute SSIM for a batch\n",
    "def compute_batch_ssim(preds, targets, size=(50, 50)):\n",
    "    ssim_scores = []\n",
    "    preds = preds.cpu().numpy().reshape(-1, *size)\n",
    "    targets = targets.cpu().numpy().reshape(-1, *size)\n",
    "    for i in range(len(preds)):\n",
    "        score = ssim(preds[i], targets[i], data_range=1.0)\n",
    "        ssim_scores.append(score)\n",
    "    return np.mean(ssim_scores)\n",
    "\n",
    "# Training and Evaluation\n",
    "def train_model():\n",
    "    # Initialize dataset and split\n",
    "    dataset = ImagePairDataset(even_dir, odd_dir, matrix_dir)\n",
    "    train_size = int(train_split * len(dataset))\n",
    "    test_size = len(dataset) - train_size\n",
    "    train_dataset, test_dataset = random_split(dataset, [train_size, test_size])\n",
    "    \n",
    "    train_loader = DataLoader(train_dataset, batch_size=batch_size, shuffle=True)\n",
    "    test_loader = DataLoader(test_dataset, batch_size=batch_size, shuffle=False)\n",
    "    \n",
    "    # Initialize model\n",
    "    model = ViTForImageRegression().to(device)\n",
    "    optimizer = torch.optim.AdamW(model.parameters(), lr=learning_rate)\n",
    "    criterion = nn.MSELoss()\n",
    "    \n",
    "    # Training loop\n",
    "    for epoch in range(num_epochs):\n",
    "        model.train()\n",
    "        train_loss = 0.0\n",
    "        train_mse = 0.0\n",
    "        train_mae = 0.0\n",
    "        train_ssim = 0.0\n",
    "        num_batches = 0\n",
    "        \n",
    "        for inputs, targets in tqdm(train_loader, desc=f\"Epoch {epoch + 1}/{num_epochs}\"):\n",
    "            inputs, targets = inputs.to(device), targets.to(device)\n",
    "            \n",
    "            # Forward pass\n",
    "            outputs = model(inputs)\n",
    "            loss = criterion(outputs, targets)\n",
    "            \n",
    "            # Backward pass\n",
    "            optimizer.zero_grad()\n",
    "            loss.backward()\n",
    "            optimizer.step()\n",
    "            \n",
    "            # Compute metrics\n",
    "            train_loss += loss.item()\n",
    "            preds = outputs.detach()\n",
    "            train_mse += mean_squared_error(targets.cpu().numpy(), preds.cpu().numpy())\n",
    "            train_mae += mean_absolute_error(targets.cpu().numpy(), preds.cpu().numpy())\n",
    "            train_ssim += compute_batch_ssim(preds, targets)\n",
    "            num_batches += 1\n",
    "        \n",
    "        # Average metrics\n",
    "        train_loss /= num_batches\n",
    "        train_mse /= num_batches\n",
    "        train_mae /= num_batches\n",
    "        train_ssim /= num_batches\n",
    "        \n",
    "        # Evaluate on test set\n",
    "        model.eval()\n",
    "        test_loss = 0.0\n",
    "        test_mse = 0.0\n",
    "        test_mae = 0.0\n",
    "        test_ssim = 0.0\n",
    "        num_test_batches = 0\n",
    "        \n",
    "        with torch.no_grad():\n",
    "            for inputs, targets in test_loader:\n",
    "                inputs, targets = inputs.to(device), targets.to(device)\n",
    "                outputs = model(inputs)\n",
    "                loss = criterion(outputs, targets)\n",
    "                \n",
    "                test_loss += loss.item()\n",
    "                test_mse += mean_squared_error(targets.cpu().numpy(), outputs.cpu().numpy())\n",
    "                test_mae += mean_absolute_error(targets.cpu().numpy(), outputs.cpu().numpy())\n",
    "                test_ssim += compute_batch_ssim(outputs, targets)\n",
    "                num_test_batches += 1\n",
    "        \n",
    "        test_loss /= num_test_batches\n",
    "        test_mse /= num_test_batches\n",
    "        test_mae /= num_test_batches\n",
    "        test_ssim /= num_test_batches\n",
    "        \n",
    "        print(f\"Epoch {epoch + 1}:\")\n",
    "        print(f\"  Train Loss: {train_loss:.6f}, MSE: {train_mse:.6f}, MAE: {train_mae:.6f}, SSIM: {train_ssim:.4f}\")\n",
    "        print(f\"  Test Loss: {test_loss:.6f}, MSE: {test_mse:.6f}, MAE: {test_mae:.6f}, SSIM: {test_ssim:.4f}\")\n",
    "        \n",
    "        # Visualize sample predictions\n",
    "        if epoch == num_epochs - 1:\n",
    "            with torch.no_grad():\n",
    "                sample_inputs, sample_targets = next(iter(test_loader))\n",
    "                sample_inputs = sample_inputs[:2].to(device)\n",
    "                sample_preds = model(sample_inputs)\n",
    "                \n",
    "                fig, axes = plt.subplots(2, 2, figsize=(10, 10))\n",
    "                for i in range(2):\n",
    "                    pred_img = sample_preds[i].cpu().numpy().reshape(image_size)\n",
    "                    target_img = sample_targets[i].cpu().numpy().reshape(image_size)\n",
    "                    \n",
    "                    axes[i, 0].imshow(pred_img, cmap='gray')\n",
    "                    axes[i, 0].set_title(f\"Predicted Image {i + 1}\")\n",
    "                    axes[i, 0].axis('off')\n",
    "                    \n",
    "                    axes[i, 1].imshow(target_img, cmap='gray')\n",
    "                    axes[i, 1].set_title(f\"Target Image {i + 1}\")\n",
    "                    axes[i, 1].axis('off')\n",
    "                \n",
    "                plt.show()\n",
    "\n",
    "if __name__ == \"__main__\":\n",
    "    train_model()"
   ]
  },
  {
   "cell_type": "code",
   "execution_count": 1,
   "id": "414541be-7bcd-456c-91a5-89ea99906a29",
   "metadata": {},
   "outputs": [
    {
     "name": "stdout",
     "output_type": "stream",
     "text": [
      "Found 1161 matching image pairs\n"
     ]
    },
    {
     "name": "stderr",
     "output_type": "stream",
     "text": [
      "Epoch 1/10: 100%|████████████████████████████████████████████████████████████████████| 116/116 [00:54<00:00,  2.13it/s]\n"
     ]
    },
    {
     "name": "stdout",
     "output_type": "stream",
     "text": [
      "Epoch 1:\n",
      "  Train Loss: 0.312746, MSE: 0.312746, MAE: 0.508686, SSIM: 0.0189\n",
      "  Test Loss: 0.252115, MSE: 0.252115, MAE: 0.499534, SSIM: 0.0711\n"
     ]
    },
    {
     "name": "stderr",
     "output_type": "stream",
     "text": [
      "Epoch 2/10: 100%|████████████████████████████████████████████████████████████████████| 116/116 [00:47<00:00,  2.43it/s]\n"
     ]
    },
    {
     "name": "stdout",
     "output_type": "stream",
     "text": [
      "Epoch 2:\n",
      "  Train Loss: 0.250286, MSE: 0.250286, MAE: 0.497794, SSIM: 0.0835\n",
      "  Test Loss: 0.249805, MSE: 0.249805, MAE: 0.496010, SSIM: 0.0748\n"
     ]
    },
    {
     "name": "stderr",
     "output_type": "stream",
     "text": [
      "Epoch 3/10: 100%|████████████████████████████████████████████████████████████████████| 116/116 [00:47<00:00,  2.46it/s]\n"
     ]
    },
    {
     "name": "stdout",
     "output_type": "stream",
     "text": [
      "Epoch 3:\n",
      "  Train Loss: 0.248170, MSE: 0.248170, MAE: 0.493898, SSIM: 0.0861\n",
      "  Test Loss: 0.248273, MSE: 0.248273, MAE: 0.493984, SSIM: 0.0933\n"
     ]
    },
    {
     "name": "stderr",
     "output_type": "stream",
     "text": [
      "Epoch 4/10: 100%|████████████████████████████████████████████████████████████████████| 116/116 [00:46<00:00,  2.47it/s]\n"
     ]
    },
    {
     "name": "stdout",
     "output_type": "stream",
     "text": [
      "Epoch 4:\n",
      "  Train Loss: 0.247287, MSE: 0.247287, MAE: 0.492253, SSIM: 0.0951\n",
      "  Test Loss: 0.248706, MSE: 0.248706, MAE: 0.493606, SSIM: 0.0895\n"
     ]
    },
    {
     "name": "stderr",
     "output_type": "stream",
     "text": [
      "Epoch 5/10: 100%|████████████████████████████████████████████████████████████████████| 116/116 [00:46<00:00,  2.47it/s]\n"
     ]
    },
    {
     "name": "stdout",
     "output_type": "stream",
     "text": [
      "Epoch 5:\n",
      "  Train Loss: 0.247486, MSE: 0.247486, MAE: 0.492066, SSIM: 0.0964\n",
      "  Test Loss: 0.247491, MSE: 0.247491, MAE: 0.493641, SSIM: 0.1028\n"
     ]
    },
    {
     "name": "stderr",
     "output_type": "stream",
     "text": [
      "Epoch 6/10: 100%|████████████████████████████████████████████████████████████████████| 116/116 [00:47<00:00,  2.46it/s]\n"
     ]
    },
    {
     "name": "stdout",
     "output_type": "stream",
     "text": [
      "Epoch 6:\n",
      "  Train Loss: 0.246874, MSE: 0.246874, MAE: 0.491326, SSIM: 0.1019\n",
      "  Test Loss: 0.247176, MSE: 0.247176, MAE: 0.491491, SSIM: 0.1067\n"
     ]
    },
    {
     "name": "stderr",
     "output_type": "stream",
     "text": [
      "Epoch 7/10: 100%|████████████████████████████████████████████████████████████████████| 116/116 [00:46<00:00,  2.48it/s]\n"
     ]
    },
    {
     "name": "stdout",
     "output_type": "stream",
     "text": [
      "Epoch 7:\n",
      "  Train Loss: 0.246818, MSE: 0.246818, MAE: 0.491049, SSIM: 0.1055\n",
      "  Test Loss: 0.247679, MSE: 0.247679, MAE: 0.491856, SSIM: 0.1177\n"
     ]
    },
    {
     "name": "stderr",
     "output_type": "stream",
     "text": [
      "Epoch 8/10: 100%|████████████████████████████████████████████████████████████████████| 116/116 [00:46<00:00,  2.50it/s]\n"
     ]
    },
    {
     "name": "stdout",
     "output_type": "stream",
     "text": [
      "Epoch 8:\n",
      "  Train Loss: 0.246391, MSE: 0.246391, MAE: 0.490368, SSIM: 0.1072\n",
      "  Test Loss: 0.248773, MSE: 0.248773, MAE: 0.492344, SSIM: 0.0918\n"
     ]
    },
    {
     "name": "stderr",
     "output_type": "stream",
     "text": [
      "Epoch 9/10: 100%|████████████████████████████████████████████████████████████████████| 116/116 [00:46<00:00,  2.49it/s]\n"
     ]
    },
    {
     "name": "stdout",
     "output_type": "stream",
     "text": [
      "Epoch 9:\n",
      "  Train Loss: 0.246246, MSE: 0.246246, MAE: 0.490015, SSIM: 0.1094\n",
      "  Test Loss: 0.247747, MSE: 0.247747, MAE: 0.492391, SSIM: 0.1201\n"
     ]
    },
    {
     "name": "stderr",
     "output_type": "stream",
     "text": [
      "Epoch 10/10: 100%|███████████████████████████████████████████████████████████████████| 116/116 [00:46<00:00,  2.49it/s]\n"
     ]
    },
    {
     "name": "stdout",
     "output_type": "stream",
     "text": [
      "Epoch 10:\n",
      "  Train Loss: 0.245807, MSE: 0.245807, MAE: 0.489832, SSIM: 0.1140\n",
      "  Test Loss: 0.246949, MSE: 0.246949, MAE: 0.492189, SSIM: 0.1146\n"
     ]
    },
    {
     "data": {
      "image/png": "[encoded data removed]",
      "text/plain": [
       "<Figure size 1000x1000 with 4 Axes>"
      ]
     },
     "metadata": {},
     "output_type": "display_data"
    }
   ],
   "source": [
    "import os\n",
    "import re\n",
    "import numpy as np\n",
    "from PIL import Image\n",
    "import torch\n",
    "from torch import nn\n",
    "from torch.utils.data import Dataset, DataLoader, random_split\n",
    "from transformers import ViTModel, ViTConfig\n",
    "from sklearn.metrics import mean_squared_error, mean_absolute_error\n",
    "from skimage.metrics import structural_similarity as ssim\n",
    "import matplotlib.pyplot as plt\n",
    "from tqdm import tqdm\n",
    "\n",
    "# Configuration\n",
    "data_dir = r\"F:/Education/NSU/CSE/CSE499/Implementation/Image Data\"\n",
    "gray_image_dir = os.path.join(data_dir, \"gray_image\")\n",
    "even_dir = os.path.join(gray_image_dir, \"even_images\")\n",
    "odd_dir = os.path.join(gray_image_dir, \"odd_images\")\n",
    "matrix_dir = os.path.join(data_dir, \"matrix\")\n",
    "image_size = (50, 50)  # Target size for all images\n",
    "batch_size = 8\n",
    "num_epochs = 10\n",
    "learning_rate = 2e-5\n",
    "train_split = 0.8  # 80% train, 20% test\n",
    "device = torch.device(\"cuda\" if torch.cuda.is_available() else \"cpu\")\n",
    "\n",
    "# Custom Dataset\n",
    "class ImagePairDataset(Dataset):\n",
    "    def __init__(self, even_dir, odd_dir, matrix_dir, target_size=(50, 50)):\n",
    "        self.even_dir = even_dir\n",
    "        self.odd_dir = odd_dir\n",
    "        self.matrix_dir = matrix_dir\n",
    "        self.target_size = target_size\n",
    "        \n",
    "        # Get list of image IDs\n",
    "        even_files = [f for f in os.listdir(even_dir) if f.endswith(\"_even.png\")]\n",
    "        self.ids = []\n",
    "        for f in even_files:\n",
    "            match = re.match(r\"(\\d+)_even\\.png\", f)\n",
    "            if match:\n",
    "                id_str = match.group(1)\n",
    "                odd_file = f\"{id_str}_odd.png\"\n",
    "                matrix_file = f\"{id_str}.png\"\n",
    "                if (os.path.exists(os.path.join(odd_dir, odd_file)) and \n",
    "                    os.path.exists(os.path.join(matrix_dir, matrix_file))):\n",
    "                    self.ids.append(id_str)\n",
    "        \n",
    "        print(f\"Found {len(self.ids)} matching image pairs\")\n",
    "        \n",
    "    def __len__(self):\n",
    "        return len(self.ids)\n",
    "    \n",
    "    def __getitem__(self, idx):\n",
    "        id_str = self.ids[idx]\n",
    "        \n",
    "        # Load images\n",
    "        even_img = Image.open(os.path.join(self.even_dir, f\"{id_str}_even.png\")).convert(\"L\")\n",
    "        odd_img = Image.open(os.path.join(self.odd_dir, f\"{id_str}_odd.png\")).convert(\"L\")\n",
    "        matrix_img = Image.open(os.path.join(self.matrix_dir, f\"{id_str}.png\")).convert(\"L\")\n",
    "        \n",
    "        # Resize images to target size\n",
    "        even_img = even_img.resize(self.target_size, Image.Resampling.LANCZOS)\n",
    "        odd_img = odd_img.resize(self.target_size, Image.Resampling.LANCZOS)\n",
    "        matrix_img = matrix_img.resize(self.target_size, Image.Resampling.LANCZOS)\n",
    "        \n",
    "        # Convert to numpy and normalize\n",
    "        even_img = np.array(even_img, dtype=np.float32) / 255.0\n",
    "        odd_img = np.array(odd_img, dtype=np.float32) / 255.0\n",
    "        matrix_img = np.array(matrix_img, dtype=np.float32) / 255.0\n",
    "        \n",
    "        # Combine into 2-channel input\n",
    "        input_img = np.stack([even_img, odd_img], axis=2)  # Shape: (50, 50, 2)\n",
    "        \n",
    "        # Convert to torch tensors\n",
    "        input_img = torch.tensor(input_img).permute(2, 0, 1)  # Shape: (2, 50, 50)\n",
    "        matrix_img = torch.tensor(matrix_img).flatten()  # Shape: (2500,)\n",
    "        \n",
    "        return input_img, matrix_img\n",
    "\n",
    "# Custom ViT Model for Regression\n",
    "class ViTForImageRegression(nn.Module):\n",
    "    def __init__(self):\n",
    "        super(ViTForImageRegression, self).__init__()\n",
    "        # Custom ViT configuration\n",
    "        config = ViTConfig(\n",
    "            image_size=50,\n",
    "            patch_size=10,  # 50x50 divides into 5x5 patches\n",
    "            num_channels=2,  # 2-channel input\n",
    "            hidden_size=768,\n",
    "            num_hidden_layers=12,\n",
    "            num_attention_heads=12,\n",
    "            intermediate_size=3072\n",
    "        )\n",
    "        self.vit = ViTModel(config)\n",
    "        self.regressor = nn.Linear(config.hidden_size, 50 * 50)  # Output 50x50 pixels\n",
    "    \n",
    "    def forward(self, pixel_values):\n",
    "        outputs = self.vit(pixel_values=pixel_values)\n",
    "        pooled_output = outputs.pooler_output\n",
    "        return self.regressor(pooled_output)\n",
    "\n",
    "# Compute SSIM for a batch\n",
    "def compute_batch_ssim(preds, targets, size=(50, 50)):\n",
    "    ssim_scores = []\n",
    "    preds = preds.cpu().numpy().reshape(-1, *size)\n",
    "    targets = targets.cpu().numpy().reshape(-1, *size)\n",
    "    for i in range(len(preds)):\n",
    "        score = ssim(preds[i], targets[i], data_range=1.0)\n",
    "        ssim_scores.append(score)\n",
    "    return np.mean(ssim_scores)\n",
    "\n",
    "# Training and Evaluation\n",
    "def train_model():\n",
    "    # Initialize dataset and split\n",
    "    dataset = ImagePairDataset(even_dir, odd_dir, matrix_dir, target_size=image_size)\n",
    "    train_size = int(train_split * len(dataset))\n",
    "    test_size = len(dataset) - train_size\n",
    "    train_dataset, test_dataset = random_split(dataset, [train_size, test_size])\n",
    "    \n",
    "    train_loader = DataLoader(train_dataset, batch_size=batch_size, shuffle=True)\n",
    "    test_loader = DataLoader(test_dataset, batch_size=batch_size, shuffle=False)\n",
    "    \n",
    "    # Initialize model\n",
    "    model = ViTForImageRegression().to(device)\n",
    "    optimizer = torch.optim.AdamW(model.parameters(), lr=learning_rate)\n",
    "    criterion = nn.MSELoss()\n",
    "    \n",
    "    # Training loop\n",
    "    for epoch in range(num_epochs):\n",
    "        model.train()\n",
    "        train_loss = 0.0\n",
    "        train_mse = 0.0\n",
    "        train_mae = 0.0\n",
    "        train_ssim = 0.0\n",
    "        num_batches = 0\n",
    "        \n",
    "        for inputs, targets in tqdm(train_loader, desc=f\"Epoch {epoch + 1}/{num_epochs}\"):\n",
    "            inputs, targets = inputs.to(device), targets.to(device)\n",
    "            \n",
    "            # Forward pass\n",
    "            outputs = model(inputs)\n",
    "            loss = criterion(outputs, targets)\n",
    "            \n",
    "            # Backward pass\n",
    "            optimizer.zero_grad()\n",
    "            loss.backward()\n",
    "            optimizer.step()\n",
    "            \n",
    "            # Compute metrics\n",
    "            train_loss += loss.item()\n",
    "            preds = outputs.detach()\n",
    "            train_mse += mean_squared_error(targets.cpu().numpy(), preds.cpu().numpy())\n",
    "            train_mae += mean_absolute_error(targets.cpu().numpy(), preds.cpu().numpy())\n",
    "            train_ssim += compute_batch_ssim(preds, targets)\n",
    "            num_batches += 1\n",
    "        \n",
    "        # Average metrics\n",
    "        train_loss /= num_batches\n",
    "        train_mse /= num_batches\n",
    "        train_mae /= num_batches\n",
    "        train_ssim /= num_batches\n",
    "        \n",
    "        # Evaluate on test set\n",
    "        model.eval()\n",
    "        test_loss = 0.0\n",
    "        test_mse = 0.0\n",
    "        test_mae = 0.0\n",
    "        test_ssim = 0.0\n",
    "        num_test_batches = 0\n",
    "        \n",
    "        with torch.no_grad():\n",
    "            for inputs, targets in test_loader:\n",
    "                inputs, targets = inputs.to(device), targets.to(device)\n",
    "                outputs = model(inputs)\n",
    "                loss = criterion(outputs, targets)\n",
    "                \n",
    "                test_loss += loss.item()\n",
    "                test_mse += mean_squared_error(targets.cpu().numpy(), outputs.cpu().numpy())\n",
    "                test_mae += mean_absolute_error(targets.cpu().numpy(), outputs.cpu().numpy())\n",
    "                test_ssim += compute_batch_ssim(outputs, targets)\n",
    "                num_test_batches += 1\n",
    "        \n",
    "        test_loss /= num_test_batches\n",
    "        test_mse /= num_test_batches\n",
    "        test_mae /= num_test_batches\n",
    "        test_ssim /= num_test_batches\n",
    "        \n",
    "        print(f\"Epoch {epoch + 1}:\")\n",
    "        print(f\"  Train Loss: {train_loss:.6f}, MSE: {train_mse:.6f}, MAE: {train_mae:.6f}, SSIM: {train_ssim:.4f}\")\n",
    "        print(f\"  Test Loss: {test_loss:.6f}, MSE: {test_mse:.6f}, MAE: {test_mae:.6f}, SSIM: {test_ssim:.4f}\")\n",
    "        \n",
    "        # Visualize sample predictions\n",
    "        if epoch == num_epochs - 1:\n",
    "            with torch.no_grad():\n",
    "                sample_inputs, sample_targets = next(iter(test_loader))\n",
    "                sample_inputs = sample_inputs[:2].to(device)\n",
    "                sample_preds = model(sample_inputs)\n",
    "                \n",
    "                fig, axes = plt.subplots(2, 2, figsize=(10, 10))\n",
    "                for i in range(2):\n",
    "                    pred_img = sample_preds[i].cpu().numpy().reshape(image_size)\n",
    "                    target_img = sample_targets[i].cpu().numpy().reshape(image_size)\n",
    "                    \n",
    "                    axes[i, 0].imshow(pred_img, cmap='gray')\n",
    "                    axes[i, 0].set_title(f\"Predicted Image {i + 1}\")\n",
    "                    axes[i, 0].axis('off')\n",
    "                    \n",
    "                    axes[i, 1].imshow(target_img, cmap='gray')\n",
    "                    axes[i, 1].set_title(f\"Target Image {i + 1}\")\n",
    "                    axes[i, 1].axis('off')\n",
    "                \n",
    "                plt.show()\n",
    "\n",
    "if __name__ == \"__main__\":\n",
    "    train_model()"
   ]
  },
  {
   "cell_type": "code",
   "execution_count": 4,
   "id": "255f2be7-2374-4999-a6ac-f26aa154233f",
   "metadata": {},
   "outputs": [
    {
     "name": "stdout",
     "output_type": "stream",
     "text": [
      "Found 1161 matching image pairs\n"
     ]
    },
    {
     "name": "stderr",
     "output_type": "stream",
     "text": [
      "Epoch 1/20: 100%|████████████████████████████████████████████████████████████████████| 116/116 [00:48<00:00,  2.38it/s]\n"
     ]
    },
    {
     "name": "stdout",
     "output_type": "stream",
     "text": [
      "Epoch 1:\n",
      "  Train Loss: 0.276374, MSE: 0.276374, MAE: 0.496570, SSIM: 0.0417\n",
      "  Test Loss: 0.247401, MSE: 0.247401, MAE: 0.490353, SSIM: 0.0581\n",
      "Saved best model at epoch 1 with Test SSIM: 0.0581\n"
     ]
    },
    {
     "name": "stderr",
     "output_type": "stream",
     "text": [
      "Epoch 2/20: 100%|████████████████████████████████████████████████████████████████████| 116/116 [00:48<00:00,  2.37it/s]\n"
     ]
    },
    {
     "name": "stdout",
     "output_type": "stream",
     "text": [
      "Epoch 2:\n",
      "  Train Loss: 0.246635, MSE: 0.246635, MAE: 0.487813, SSIM: 0.0567\n",
      "  Test Loss: 0.247000, MSE: 0.247000, MAE: 0.488523, SSIM: 0.0616\n",
      "Saved best model at epoch 2 with Test SSIM: 0.0616\n"
     ]
    },
    {
     "name": "stderr",
     "output_type": "stream",
     "text": [
      "Epoch 3/20: 100%|████████████████████████████████████████████████████████████████████| 116/116 [00:47<00:00,  2.45it/s]\n"
     ]
    },
    {
     "name": "stdout",
     "output_type": "stream",
     "text": [
      "Epoch 3:\n",
      "  Train Loss: 0.245547, MSE: 0.245547, MAE: 0.486300, SSIM: 0.0676\n",
      "  Test Loss: 0.245303, MSE: 0.245303, MAE: 0.486921, SSIM: 0.0676\n",
      "Saved best model at epoch 3 with Test SSIM: 0.0676\n"
     ]
    },
    {
     "name": "stderr",
     "output_type": "stream",
     "text": [
      "Epoch 4/20: 100%|████████████████████████████████████████████████████████████████████| 116/116 [00:47<00:00,  2.46it/s]\n"
     ]
    },
    {
     "name": "stdout",
     "output_type": "stream",
     "text": [
      "Epoch 4:\n",
      "  Train Loss: 0.245788, MSE: 0.245788, MAE: 0.486384, SSIM: 0.0672\n",
      "  Test Loss: 0.245966, MSE: 0.245966, MAE: 0.485915, SSIM: 0.0658\n"
     ]
    },
    {
     "name": "stderr",
     "output_type": "stream",
     "text": [
      "Epoch 5/20: 100%|████████████████████████████████████████████████████████████████████| 116/116 [00:47<00:00,  2.47it/s]\n"
     ]
    },
    {
     "name": "stdout",
     "output_type": "stream",
     "text": [
      "Epoch 5:\n",
      "  Train Loss: 0.244861, MSE: 0.244861, MAE: 0.485104, SSIM: 0.0727\n",
      "  Test Loss: 0.245082, MSE: 0.245082, MAE: 0.483192, SSIM: 0.0680\n",
      "Saved best model at epoch 5 with Test SSIM: 0.0680\n"
     ]
    },
    {
     "name": "stderr",
     "output_type": "stream",
     "text": [
      "Epoch 6/20: 100%|████████████████████████████████████████████████████████████████████| 116/116 [00:46<00:00,  2.48it/s]\n"
     ]
    },
    {
     "name": "stdout",
     "output_type": "stream",
     "text": [
      "Epoch 6:\n",
      "  Train Loss: 0.245025, MSE: 0.245025, MAE: 0.485262, SSIM: 0.0763\n",
      "  Test Loss: 0.245446, MSE: 0.245446, MAE: 0.486079, SSIM: 0.0723\n",
      "Saved best model at epoch 6 with Test SSIM: 0.0723\n"
     ]
    },
    {
     "name": "stderr",
     "output_type": "stream",
     "text": [
      "Epoch 7/20: 100%|████████████████████████████████████████████████████████████████████| 116/116 [00:46<00:00,  2.48it/s]\n"
     ]
    },
    {
     "name": "stdout",
     "output_type": "stream",
     "text": [
      "Epoch 7:\n",
      "  Train Loss: 0.244898, MSE: 0.244898, MAE: 0.485481, SSIM: 0.0798\n",
      "  Test Loss: 0.244273, MSE: 0.244273, MAE: 0.485641, SSIM: 0.0824\n",
      "Saved best model at epoch 7 with Test SSIM: 0.0824\n"
     ]
    },
    {
     "name": "stderr",
     "output_type": "stream",
     "text": [
      "Epoch 8/20: 100%|████████████████████████████████████████████████████████████████████| 116/116 [00:46<00:00,  2.47it/s]\n"
     ]
    },
    {
     "name": "stdout",
     "output_type": "stream",
     "text": [
      "Epoch 8:\n",
      "  Train Loss: 0.244247, MSE: 0.244247, MAE: 0.484920, SSIM: 0.0826\n",
      "  Test Loss: 0.243751, MSE: 0.243751, MAE: 0.486308, SSIM: 0.0791\n"
     ]
    },
    {
     "name": "stderr",
     "output_type": "stream",
     "text": [
      "Epoch 9/20: 100%|████████████████████████████████████████████████████████████████████| 116/116 [00:46<00:00,  2.47it/s]\n"
     ]
    },
    {
     "name": "stdout",
     "output_type": "stream",
     "text": [
      "Epoch 9:\n",
      "  Train Loss: 0.244575, MSE: 0.244575, MAE: 0.484873, SSIM: 0.0811\n",
      "  Test Loss: 0.244519, MSE: 0.244519, MAE: 0.484764, SSIM: 0.0783\n"
     ]
    },
    {
     "name": "stderr",
     "output_type": "stream",
     "text": [
      "Epoch 10/20: 100%|███████████████████████████████████████████████████████████████████| 116/116 [00:47<00:00,  2.46it/s]\n"
     ]
    },
    {
     "name": "stdout",
     "output_type": "stream",
     "text": [
      "Epoch 10:\n",
      "  Train Loss: 0.243940, MSE: 0.243940, MAE: 0.484032, SSIM: 0.0847\n",
      "  Test Loss: 0.244135, MSE: 0.244135, MAE: 0.486347, SSIM: 0.0798\n"
     ]
    },
    {
     "name": "stderr",
     "output_type": "stream",
     "text": [
      "Epoch 11/20: 100%|███████████████████████████████████████████████████████████████████| 116/116 [00:47<00:00,  2.46it/s]\n"
     ]
    },
    {
     "name": "stdout",
     "output_type": "stream",
     "text": [
      "Epoch 11:\n",
      "  Train Loss: 0.244027, MSE: 0.244027, MAE: 0.484111, SSIM: 0.0844\n",
      "  Test Loss: 0.242518, MSE: 0.242518, MAE: 0.483718, SSIM: 0.0821\n"
     ]
    },
    {
     "name": "stderr",
     "output_type": "stream",
     "text": [
      "Epoch 12/20: 100%|███████████████████████████████████████████████████████████████████| 116/116 [00:47<00:00,  2.45it/s]\n"
     ]
    },
    {
     "name": "stdout",
     "output_type": "stream",
     "text": [
      "Epoch 12:\n",
      "  Train Loss: 0.243697, MSE: 0.243697, MAE: 0.484138, SSIM: 0.0865\n",
      "  Test Loss: 0.242945, MSE: 0.242945, MAE: 0.483558, SSIM: 0.0872\n",
      "Saved best model at epoch 12 with Test SSIM: 0.0872\n"
     ]
    },
    {
     "name": "stderr",
     "output_type": "stream",
     "text": [
      "Epoch 13/20: 100%|███████████████████████████████████████████████████████████████████| 116/116 [00:47<00:00,  2.45it/s]\n"
     ]
    },
    {
     "name": "stdout",
     "output_type": "stream",
     "text": [
      "Epoch 13:\n",
      "  Train Loss: 0.243652, MSE: 0.243652, MAE: 0.483541, SSIM: 0.0850\n",
      "  Test Loss: 0.242194, MSE: 0.242194, MAE: 0.483249, SSIM: 0.0820\n"
     ]
    },
    {
     "name": "stderr",
     "output_type": "stream",
     "text": [
      "Epoch 14/20: 100%|███████████████████████████████████████████████████████████████████| 116/116 [00:47<00:00,  2.46it/s]\n"
     ]
    },
    {
     "name": "stdout",
     "output_type": "stream",
     "text": [
      "Epoch 14:\n",
      "  Train Loss: 0.242526, MSE: 0.242526, MAE: 0.482070, SSIM: 0.0770\n",
      "  Test Loss: 0.242068, MSE: 0.242068, MAE: 0.479556, SSIM: 0.0662\n"
     ]
    },
    {
     "name": "stderr",
     "output_type": "stream",
     "text": [
      "Epoch 15/20: 100%|███████████████████████████████████████████████████████████████████| 116/116 [00:46<00:00,  2.48it/s]\n"
     ]
    },
    {
     "name": "stdout",
     "output_type": "stream",
     "text": [
      "Epoch 15:\n",
      "  Train Loss: 0.241570, MSE: 0.241570, MAE: 0.479549, SSIM: 0.0770\n",
      "  Test Loss: 0.241369, MSE: 0.241369, MAE: 0.479227, SSIM: 0.0874\n",
      "Saved best model at epoch 15 with Test SSIM: 0.0874\n"
     ]
    },
    {
     "name": "stderr",
     "output_type": "stream",
     "text": [
      "Epoch 16/20: 100%|███████████████████████████████████████████████████████████████████| 116/116 [00:46<00:00,  2.48it/s]\n"
     ]
    },
    {
     "name": "stdout",
     "output_type": "stream",
     "text": [
      "Epoch 16:\n",
      "  Train Loss: 0.240691, MSE: 0.240691, MAE: 0.478413, SSIM: 0.0869\n",
      "  Test Loss: 0.241029, MSE: 0.241030, MAE: 0.479130, SSIM: 0.0843\n"
     ]
    },
    {
     "name": "stderr",
     "output_type": "stream",
     "text": [
      "Epoch 17/20: 100%|███████████████████████████████████████████████████████████████████| 116/116 [00:46<00:00,  2.48it/s]\n"
     ]
    },
    {
     "name": "stdout",
     "output_type": "stream",
     "text": [
      "Epoch 17:\n",
      "  Train Loss: 0.239836, MSE: 0.239836, MAE: 0.477109, SSIM: 0.0924\n",
      "  Test Loss: 0.240447, MSE: 0.240447, MAE: 0.478126, SSIM: 0.0953\n",
      "Saved best model at epoch 17 with Test SSIM: 0.0953\n"
     ]
    },
    {
     "name": "stderr",
     "output_type": "stream",
     "text": [
      "Epoch 18/20: 100%|███████████████████████████████████████████████████████████████████| 116/116 [00:47<00:00,  2.47it/s]\n"
     ]
    },
    {
     "name": "stdout",
     "output_type": "stream",
     "text": [
      "Epoch 18:\n",
      "  Train Loss: 0.240061, MSE: 0.240061, MAE: 0.477590, SSIM: 0.0952\n",
      "  Test Loss: 0.240527, MSE: 0.240527, MAE: 0.478856, SSIM: 0.0890\n"
     ]
    },
    {
     "name": "stderr",
     "output_type": "stream",
     "text": [
      "Epoch 19/20: 100%|███████████████████████████████████████████████████████████████████| 116/116 [00:46<00:00,  2.47it/s]\n"
     ]
    },
    {
     "name": "stdout",
     "output_type": "stream",
     "text": [
      "Epoch 19:\n",
      "  Train Loss: 0.239867, MSE: 0.239867, MAE: 0.477592, SSIM: 0.0989\n",
      "  Test Loss: 0.239245, MSE: 0.239245, MAE: 0.475519, SSIM: 0.0967\n",
      "Saved best model at epoch 19 with Test SSIM: 0.0967\n"
     ]
    },
    {
     "name": "stderr",
     "output_type": "stream",
     "text": [
      "Epoch 20/20: 100%|███████████████████████████████████████████████████████████████████| 116/116 [00:47<00:00,  2.46it/s]\n"
     ]
    },
    {
     "name": "stdout",
     "output_type": "stream",
     "text": [
      "Epoch 20:\n",
      "  Train Loss: 0.239396, MSE: 0.239396, MAE: 0.476666, SSIM: 0.1014\n",
      "  Test Loss: 0.239048, MSE: 0.239048, MAE: 0.476174, SSIM: 0.0980\n",
      "Saved best model at epoch 20 with Test SSIM: 0.0980\n"
     ]
    },
    {
     "data": {
      "image/png": "[encoded data removed]",
      "text/plain": [
       "<Figure size 1000x1000 with 4 Axes>"
      ]
     },
     "metadata": {},
     "output_type": "display_data"
    }
   ],
   "source": [
    "import os\n",
    "import re\n",
    "import numpy as np\n",
    "from PIL import Image\n",
    "import torch\n",
    "from torch import nn\n",
    "from torch.utils.data import Dataset, DataLoader, random_split\n",
    "from torchvision import transforms\n",
    "from transformers import ViTModel, ViTConfig\n",
    "from sklearn.metrics import mean_squared_error, mean_absolute_error\n",
    "from skimage.metrics import structural_similarity as ssim\n",
    "import matplotlib.pyplot as plt\n",
    "from tqdm import tqdm\n",
    "\n",
    "# Ensure plots display in Jupyter\n",
    "%matplotlib inline\n",
    "\n",
    "# Configuration\n",
    "data_dir = r\"F:/Education/NSU/CSE/CSE499/Implementation/Image Data\"\n",
    "gray_image_dir = os.path.join(data_dir, \"gray_image\")\n",
    "even_dir = os.path.join(gray_image_dir, \"even_images\")\n",
    "odd_dir = os.path.join(gray_image_dir, \"odd_images\")\n",
    "matrix_dir = os.path.join(data_dir, \"matrix\")\n",
    "image_size = (50, 50)\n",
    "batch_size = 8\n",
    "num_epochs = 20  # Increased for better convergence\n",
    "learning_rate = 5e-5  # Slightly higher for faster learning\n",
    "train_split = 0.8\n",
    "device = torch.device(\"cuda\" if torch.cuda.is_available() else \"cpu\")\n",
    "model_save_path = \"best_vit_model.pth\"  # Path to save best model\n",
    "\n",
    "# Data augmentation\n",
    "transform = transforms.Compose([\n",
    "    transforms.RandomRotation(10),\n",
    "    transforms.RandomHorizontalFlip(),\n",
    "    transforms.RandomVerticalFlip(),\n",
    "])\n",
    "\n",
    "# Custom Dataset\n",
    "class ImagePairDataset(Dataset):\n",
    "    def __init__(self, even_dir, odd_dir, matrix_dir, target_size=(50, 50), transform=None):\n",
    "        self.even_dir = even_dir\n",
    "        self.odd_dir = odd_dir\n",
    "        self.matrix_dir = matrix_dir\n",
    "        self.target_size = target_size\n",
    "        self.transform = transform\n",
    "        \n",
    "        # Get list of image IDs\n",
    "        even_files = [f for f in os.listdir(even_dir) if f.endswith(\"_even.png\")]\n",
    "        self.ids = []\n",
    "        for f in even_files:\n",
    "            match = re.match(r\"(\\d+)_even\\.png\", f)\n",
    "            if match:\n",
    "                id_str = match.group(1)\n",
    "                odd_file = f\"{id_str}_odd.png\"\n",
    "                matrix_file = f\"{id_str}.png\"\n",
    "                if (os.path.exists(os.path.join(odd_dir, odd_file)) and \n",
    "                    os.path.exists(os.path.join(matrix_dir, matrix_file))):\n",
    "                    self.ids.append(id_str)\n",
    "        \n",
    "        print(f\"Found {len(self.ids)} matching image pairs\")\n",
    "        \n",
    "    def __len__(self):\n",
    "        return len(self.ids)\n",
    "    \n",
    "    def __getitem__(self, idx):\n",
    "        id_str = self.ids[idx]\n",
    "        \n",
    "        # Load images\n",
    "        even_img = Image.open(os.path.join(self.even_dir, f\"{id_str}_even.png\")).convert(\"L\")\n",
    "        odd_img = Image.open(os.path.join(self.odd_dir, f\"{id_str}_odd.png\")).convert(\"L\")\n",
    "        matrix_img = Image.open(os.path.join(self.matrix_dir, f\"{id_str}.png\")).convert(\"L\")\n",
    "        \n",
    "        # Resize images\n",
    "        even_img = even_img.resize(self.target_size, Image.Resampling.LANCZOS)\n",
    "        odd_img = odd_img.resize(self.target_size, Image.Resampling.LANCZOS)\n",
    "        matrix_img = matrix_img.resize(self.target_size, Image.Resampling.LANCZOS)\n",
    "        \n",
    "        # Verify image sizes\n",
    "        if even_img.size != self.target_size or odd_img.size != self.target_size or matrix_img.size != self.target_size:\n",
    "            raise ValueError(f\"Image size mismatch for ID {id_str}: expected {self.target_size}\")\n",
    "        \n",
    "        # Convert to numpy and normalize\n",
    "        even_img = np.array(even_img, dtype=np.float32) / 255.0\n",
    "        odd_img = np.array(odd_img, dtype=np.float32) / 255.0\n",
    "        matrix_img = np.array(matrix_img, dtype=np.float32) / 255.0\n",
    "        \n",
    "        # Apply augmentation\n",
    "        if self.transform:\n",
    "            # Stack images for consistent augmentation\n",
    "            stacked_img = np.stack([even_img, odd_img, matrix_img], axis=2)\n",
    "            stacked_img = Image.fromarray((stacked_img * 255).astype(np.uint8))\n",
    "            stacked_img = self.transform(stacked_img)\n",
    "            stacked_img = np.array(stacked_img, dtype=np.float32) / 255.0\n",
    "            even_img, odd_img, matrix_img = stacked_img[:, :, 0], stacked_img[:, :, 1], stacked_img[:, :, 2]\n",
    "        \n",
    "        # Combine into 2-channel input\n",
    "        input_img = np.stack([even_img, odd_img], axis=2)  # Shape: (50, 50, 2)\n",
    "        \n",
    "        # Convert to torch tensors\n",
    "        input_img = torch.tensor(input_img).permute(2, 0, 1)  # Shape: (2, 50, 50)\n",
    "        matrix_img = torch.tensor(matrix_img).flatten()  # Shape: (2500,)\n",
    "        \n",
    "        return input_img, matrix_img\n",
    "\n",
    "# Custom ViT Model for Regression\n",
    "class ViTForImageRegression(nn.Module):\n",
    "    def __init__(self):\n",
    "        super(ViTForImageRegression, self).__init__()\n",
    "        config = ViTConfig(\n",
    "            image_size=50,\n",
    "            patch_size=10,\n",
    "            num_channels=2,\n",
    "            hidden_size=768,\n",
    "            num_hidden_layers=12,\n",
    "            num_attention_heads=12,\n",
    "            intermediate_size=3072\n",
    "        )\n",
    "        self.vit = ViTModel(config)\n",
    "        self.regressor = nn.Linear(config.hidden_size, 50 * 50)\n",
    "        \n",
    "        # Optional: Convolutional decoder (uncomment to use)\n",
    "        # self.decoder = nn.Sequential(\n",
    "        #     nn.Linear(config.hidden_size, 256 * 5 * 5),\n",
    "        #     nn.ReLU(),\n",
    "        #     nn.Unflatten(1, (256, 5, 5)),\n",
    "        #     nn.ConvTranspose2d(256, 128, kernel_size=4, stride=2, padding=1),\n",
    "        #     nn.ReLU(),\n",
    "        #     nn.ConvTranspose2d(128, 64, kernel_size=4, stride=2, padding=1),\n",
    "        #     nn.ReLU(),\n",
    "        #     nn.ConvTranspose2d(64, 1, kernel_size=4, stride=2, padding=1),\n",
    "        #     nn.Sigmoid()  # Output 50x50x1\n",
    "        # )\n",
    "    \n",
    "    def forward(self, pixel_values):\n",
    "        outputs = self.vit(pixel_values=pixel_values)\n",
    "        pooled_output = outputs.pooler_output\n",
    "        return self.regressor(pooled_output)\n",
    "        # For convolutional decoder:\n",
    "        # return self.decoder(pooled_output).squeeze(1).flatten(1)\n",
    "\n",
    "# Compute SSIM for a batch\n",
    "def compute_batch_ssim(preds, targets, size=(50, 50)):\n",
    "    ssim_scores = []\n",
    "    preds = preds.cpu().numpy().reshape(-1, *size)\n",
    "    targets = targets.cpu().numpy().reshape(-1, *size)\n",
    "    for i in range(len(preds)):\n",
    "        score = ssim(preds[i], targets[i], data_range=1.0)\n",
    "        ssim_scores.append(score)\n",
    "    return np.mean(ssim_scores)\n",
    "\n",
    "# Training and Evaluation\n",
    "def train_model():\n",
    "    # Initialize dataset and split\n",
    "    dataset = ImagePairDataset(even_dir, odd_dir, matrix_dir, target_size=image_size, transform=transform)\n",
    "    train_size = int(train_split * len(dataset))\n",
    "    test_size = len(dataset) - train_size\n",
    "    train_dataset, test_dataset = random_split(dataset, [train_size, test_size])\n",
    "    \n",
    "    train_loader = DataLoader(train_dataset, batch_size=batch_size, shuffle=True)\n",
    "    test_loader = DataLoader(test_dataset, batch_size=batch_size, shuffle=False)\n",
    "    \n",
    "    # Initialize model\n",
    "    model = ViTForImageRegression().to(device)\n",
    "    optimizer = torch.optim.AdamW(model.parameters(), lr=learning_rate)\n",
    "    criterion = nn.MSELoss()\n",
    "    \n",
    "    best_test_ssim = 0.0\n",
    "    best_epoch = 0\n",
    "    \n",
    "    # Training loop\n",
    "    for epoch in range(num_epochs):\n",
    "        model.train()\n",
    "        train_loss = 0.0\n",
    "        train_mse = 0.0\n",
    "        train_mae = 0.0\n",
    "        train_ssim = 0.0\n",
    "        num_batches = 0\n",
    "        \n",
    "        for inputs, targets in tqdm(train_loader, desc=f\"Epoch {epoch + 1}/{num_epochs}\"):\n",
    "            inputs, targets = inputs.to(device), targets.to(device)\n",
    "            \n",
    "            # Forward pass\n",
    "            outputs = model(inputs)\n",
    "            loss = criterion(outputs, targets)\n",
    "            \n",
    "            # Backward pass\n",
    "            optimizer.zero_grad()\n",
    "            loss.backward()\n",
    "            optimizer.step()\n",
    "            \n",
    "            # Compute metrics\n",
    "            train_loss += loss.item()\n",
    "            preds = outputs.detach()\n",
    "            train_mse += mean_squared_error(targets.cpu().numpy(), preds.cpu().numpy())\n",
    "            train_mae += mean_absolute_error(targets.cpu().numpy(), preds.cpu().numpy())\n",
    "            train_ssim += compute_batch_ssim(preds, targets)\n",
    "            num_batches += 1\n",
    "        \n",
    "        # Average train metrics\n",
    "        train_loss /= num_batches\n",
    "        train_mse /= num_batches\n",
    "        train_mae /= num_batches\n",
    "        train_ssim /= num_batches\n",
    "        \n",
    "        # Evaluate on test set\n",
    "        model.eval()\n",
    "        test_loss = 0.0\n",
    "        test_mse = 0.0\n",
    "        test_mae = 0.0\n",
    "        test_ssim = 0.0\n",
    "        num_test_batches = 0\n",
    "        \n",
    "        with torch.no_grad():\n",
    "            for inputs, targets in test_loader:\n",
    "                inputs, targets = inputs.to(device), targets.to(device)\n",
    "                outputs = model(inputs)\n",
    "                loss = criterion(outputs, targets)\n",
    "                \n",
    "                test_loss += loss.item()\n",
    "                test_mse += mean_squared_error(targets.cpu().numpy(), outputs.cpu().numpy())\n",
    "                test_mae += mean_absolute_error(targets.cpu().numpy(), outputs.cpu().numpy())\n",
    "                test_ssim += compute_batch_ssim(outputs, targets)\n",
    "                num_test_batches += 1\n",
    "        \n",
    "        test_loss /= num_test_batches\n",
    "        test_mse /= num_test_batches\n",
    "        test_mae /= num_test_batches\n",
    "        test_ssim /= num_test_batches\n",
    "        \n",
    "        print(f\"Epoch {epoch + 1}:\")\n",
    "        print(f\"  Train Loss: {train_loss:.6f}, MSE: {train_mse:.6f}, MAE: {train_mae:.6f}, SSIM: {train_ssim:.4f}\")\n",
    "        print(f\"  Test Loss: {test_loss:.6f}, MSE: {test_mse:.6f}, MAE: {test_mae:.6f}, SSIM: {test_ssim:.4f}\")\n",
    "        \n",
    "        # Save best model based on test SSIM\n",
    "        if test_ssim > best_test_ssim:\n",
    "            best_test_ssim = test_ssim\n",
    "            best_epoch = epoch + 1\n",
    "            torch.save(model.state_dict(), model_save_path)\n",
    "            print(f\"Saved best model at epoch {best_epoch} with Test SSIM: {best_test_ssim:.4f}\")\n",
    "        \n",
    "        # Visualize sample predictions\n",
    "        if epoch == num_epochs - 1:\n",
    "            with torch.no_grad():\n",
    "                sample_inputs, sample_targets = next(iter(test_loader))\n",
    "                sample_inputs = sample_inputs[:2].to(device)\n",
    "                sample_preds = model(sample_inputs)\n",
    "                \n",
    "                fig, axes = plt.subplots(2, 2, figsize=(10, 10))\n",
    "                for i in range(2):\n",
    "                    pred_img = sample_preds[i].cpu().numpy().reshape(image_size)\n",
    "                    target_img = sample_targets[i].cpu().numpy().reshape(image_size)\n",
    "                    \n",
    "                    axes[i, 0].imshow(pred_img, cmap='gray')\n",
    "                    axes[i, 0].set_title(f\"Predicted Image {i + 1}\")\n",
    "                    axes[i, 0].axis('off')\n",
    "                    \n",
    "                    axes[i, 1].imshow(target_img, cmap='gray')\n",
    "                    axes[i, 1].set_title(f\"Target Image {i + 1}\")\n",
    "                    axes[i, 1].axis('off')\n",
    "                \n",
    "                plt.tight_layout()\n",
    "                plt.show()\n",
    "\n",
    "if __name__ == \"__main__\":\n",
    "    train_model()"
   ]
  },
  {
   "cell_type": "code",
   "execution_count": 2,
   "id": "7e2614f4-0feb-4a80-afc5-e7094be000d8",
   "metadata": {},
   "outputs": [
    {
     "name": "stdout",
     "output_type": "stream",
     "text": [
      "Collecting torchvision\n",
      "  Downloading torchvision-0.22.1-cp312-cp312-win_amd64.whl.metadata (6.1 kB)\n",
      "Requirement already satisfied: numpy in c:\\users\\user\\anaconda3\\lib\\site-packages (from torchvision) (1.26.4)\n",
      "Requirement already satisfied: torch==2.7.1 in c:\\users\\user\\anaconda3\\lib\\site-packages (from torchvision) (2.7.1)\n",
      "Requirement already satisfied: pillow!=8.3.*,>=5.3.0 in c:\\users\\user\\anaconda3\\lib\\site-packages (from torchvision) (10.4.0)\n",
      "Requirement already satisfied: filelock in c:\\users\\user\\anaconda3\\lib\\site-packages (from torch==2.7.1->torchvision) (3.13.1)\n",
      "Requirement already satisfied: typing-extensions>=4.10.0 in c:\\users\\user\\anaconda3\\lib\\site-packages (from torch==2.7.1->torchvision) (4.11.0)\n",
      "Requirement already satisfied: sympy>=1.13.3 in c:\\users\\user\\anaconda3\\lib\\site-packages (from torch==2.7.1->torchvision) (1.14.0)\n",
      "Requirement already satisfied: networkx in c:\\users\\user\\anaconda3\\lib\\site-packages (from torch==2.7.1->torchvision) (3.3)\n",
      "Requirement already satisfied: jinja2 in c:\\users\\user\\anaconda3\\lib\\site-packages (from torch==2.7.1->torchvision) (3.1.4)\n",
      "Requirement already satisfied: fsspec in c:\\users\\user\\anaconda3\\lib\\site-packages (from torch==2.7.1->torchvision) (2024.6.1)\n",
      "Requirement already satisfied: setuptools in c:\\users\\user\\anaconda3\\lib\\site-packages (from torch==2.7.1->torchvision) (75.1.0)\n",
      "Requirement already satisfied: mpmath<1.4,>=1.1.0 in c:\\users\\user\\anaconda3\\lib\\site-packages (from sympy>=1.13.3->torch==2.7.1->torchvision) (1.3.0)\n",
      "Requirement already satisfied: MarkupSafe>=2.0 in c:\\users\\user\\anaconda3\\lib\\site-packages (from jinja2->torch==2.7.1->torchvision) (2.1.3)\n",
      "Downloading torchvision-0.22.1-cp312-cp312-win_amd64.whl (1.7 MB)\n",
      "   ---------------------------------------- 0.0/1.7 MB ? eta -:--:--\n",
      "   ------ --------------------------------- 0.3/1.7 MB ? eta -:--:--\n",
      "   ---------------------------------------- 1.7/1.7 MB 7.1 MB/s eta 0:00:00\n",
      "Installing collected packages: torchvision\n",
      "Successfully installed torchvision-0.22.1\n",
      "Note: you may need to restart the kernel to use updated packages.\n"
     ]
    }
   ],
   "source": [
    "pip install torchvision"
   ]
  },
  {
   "cell_type": "code",
   "execution_count": null,
   "id": "b01faf82-c2ce-4f37-80db-02a760362dc0",
   "metadata": {},
   "outputs": [],
   "source": []
  }
 ],
 "metadata": {
  "kernelspec": {
   "display_name": "Python 3 (ipykernel)",
   "language": "python",
   "name": "python3"
  },
  "language_info": {
   "codemirror_mode": {
    "name": "ipython",
    "version": 3
   },
   "file_extension": ".py",
   "mimetype": "text/x-python",
   "name": "python",
   "nbconvert_exporter": "python",
   "pygments_lexer": "ipython3",
   "version": "3.12.7"
  }
 },
 "nbformat": 4,
 "nbformat_minor": 5
}
