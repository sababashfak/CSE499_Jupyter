{
 "cells": [
  {
   "cell_type": "code",
   "execution_count": null,
   "id": "775a428d-8e5b-48b8-abe4-1432e5fad202",
   "metadata": {},
   "outputs": [],
   "source": []
  }
 ],
 "metadata": {
  "kernelspec": {
   "display_name": "",
   "name": ""
  },
  "language_info": {
   "name": ""
  }
 },
 "nbformat": 4,
 "nbformat_minor": 5
}
