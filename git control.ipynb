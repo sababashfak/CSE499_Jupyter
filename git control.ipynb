{
 "cells": [
  {
   "cell_type": "code",
   "execution_count": 1,
   "id": "775a428d-8e5b-48b8-abe4-1432e5fad202",
   "metadata": {},
   "outputs": [
    {
     "name": "stdout",
     "output_type": "stream",
     "text": [
      "git version 2.40.0.windows.1\n"
     ]
    }
   ],
   "source": [
    "!git --version"
   ]
  },
  {
   "cell_type": "code",
   "execution_count": 4,
   "id": "bc361ee8-517c-43f9-801b-07860400193d",
   "metadata": {},
   "outputs": [
    {
     "name": "stdout",
     "output_type": "stream",
     "text": [
      "Initialized empty Git repository in C:/Users/User/Jupyter File/.git/\n"
     ]
    }
   ],
   "source": [
    "!git init"
   ]
  },
  {
   "cell_type": "code",
   "execution_count": 6,
   "id": "998f18a5-18bd-4b6a-bdd2-c8bf4d9b02b6",
   "metadata": {},
   "outputs": [
    {
     "name": "stdout",
     "output_type": "stream",
     "text": [
      "On branch master\n",
      "\n",
      "No commits yet\n",
      "\n",
      "Untracked files:\n",
      "  (use \"git add <file>...\" to include in what will be committed)\n",
      "\t.ipynb_checkpoints/\n",
      "\tAutoencoder.ipynb\n",
      "\tData Preprocessing for 499.ipynb\n",
      "\tEN-DE based CNN.ipynb\n",
      "\tNewDataViT.ipynb\n",
      "\tPractice 1.ipynb\n",
      "\tSimplified Custom Model-Copy1.ipynb\n",
      "\tSimplified Custom Model.ipynb\n",
      "\tU-Net like CNN.ipynb\n",
      "\tUntitled.ipynb\n",
      "\tViT 2.ipynb\n",
      "\tViT.ipynb\n",
      "\tViT3.ipynb\n",
      "\tViT4.ipynb\n",
      "\tgit control.ipynb\n",
      "\n",
      "nothing added to commit but untracked files present (use \"git add\" to track)\n"
     ]
    }
   ],
   "source": [
    "!git status"
   ]
  },
  {
   "cell_type": "code",
   "execution_count": 9,
   "id": "08ffe14a-6fe7-4b4c-8a08-1cba5f49a3f6",
   "metadata": {},
   "outputs": [
    {
     "name": "stderr",
     "output_type": "stream",
     "text": [
      "warning: in the working copy of '.ipynb_checkpoints/Autoencoder-checkpoint.ipynb', LF will be replaced by CRLF the next time Git touches it\n",
      "warning: in the working copy of '.ipynb_checkpoints/git control-checkpoint.ipynb', LF will be replaced by CRLF the next time Git touches it\n",
      "warning: in the working copy of 'Autoencoder.ipynb', LF will be replaced by CRLF the next time Git touches it\n",
      "warning: in the working copy of 'Data Preprocessing for 499.ipynb', LF will be replaced by CRLF the next time Git touches it\n",
      "warning: in the working copy of 'EN-DE based CNN.ipynb', LF will be replaced by CRLF the next time Git touches it\n",
      "warning: in the working copy of 'NewDataViT.ipynb', LF will be replaced by CRLF the next time Git touches it\n",
      "warning: in the working copy of 'Practice 1.ipynb', LF will be replaced by CRLF the next time Git touches it\n",
      "warning: in the working copy of 'Simplified Custom Model-Copy1.ipynb', LF will be replaced by CRLF the next time Git touches it\n",
      "warning: in the working copy of 'Simplified Custom Model.ipynb', LF will be replaced by CRLF the next time Git touches it\n",
      "warning: in the working copy of 'U-Net like CNN.ipynb', LF will be replaced by CRLF the next time Git touches it\n",
      "warning: in the working copy of 'Untitled.ipynb', LF will be replaced by CRLF the next time Git touches it\n",
      "warning: in the working copy of 'ViT 2.ipynb', LF will be replaced by CRLF the next time Git touches it\n",
      "warning: in the working copy of 'ViT.ipynb', LF will be replaced by CRLF the next time Git touches it\n",
      "warning: in the working copy of 'ViT3.ipynb', LF will be replaced by CRLF the next time Git touches it\n",
      "warning: in the working copy of 'ViT4.ipynb', LF will be replaced by CRLF the next time Git touches it\n",
      "warning: in the working copy of 'git control.ipynb', LF will be replaced by CRLF the next time Git touches it\n"
     ]
    }
   ],
   "source": [
    "!git add ."
   ]
  },
  {
   "cell_type": "code",
   "execution_count": 10,
   "id": "f06b8379-34a6-4c90-9a31-d28f27774b6d",
   "metadata": {},
   "outputs": [
    {
     "name": "stdout",
     "output_type": "stream",
     "text": [
      "On branch master\n",
      "\n",
      "No commits yet\n",
      "\n",
      "Changes to be committed:\n",
      "  (use \"git rm --cached <file>...\" to unstage)\n",
      "\tnew file:   .ipynb_checkpoints/Autoencoder-checkpoint.ipynb\n",
      "\tnew file:   .ipynb_checkpoints/git control-checkpoint.ipynb\n",
      "\tnew file:   Autoencoder.ipynb\n",
      "\tnew file:   Data Preprocessing for 499.ipynb\n",
      "\tnew file:   EN-DE based CNN.ipynb\n",
      "\tnew file:   NewDataViT.ipynb\n",
      "\tnew file:   Practice 1.ipynb\n",
      "\tnew file:   Simplified Custom Model-Copy1.ipynb\n",
      "\tnew file:   Simplified Custom Model.ipynb\n",
      "\tnew file:   U-Net like CNN.ipynb\n",
      "\tnew file:   Untitled.ipynb\n",
      "\tnew file:   ViT 2.ipynb\n",
      "\tnew file:   ViT.ipynb\n",
      "\tnew file:   ViT3.ipynb\n",
      "\tnew file:   ViT4.ipynb\n",
      "\tnew file:   git control.ipynb\n",
      "\n"
     ]
    }
   ],
   "source": [
    "!git status"
   ]
  },
  {
   "cell_type": "code",
   "execution_count": 11,
   "id": "045950bb-1e3a-456c-9b1f-d18fe747a503",
   "metadata": {},
   "outputs": [
    {
     "name": "stdout",
     "output_type": "stream",
     "text": [
      "[master (root-commit) a3ec6f4] Initialize Jupyter Notebook Files for CSE499\n",
      " 16 files changed, 39718 insertions(+)\n",
      " create mode 100644 .ipynb_checkpoints/Autoencoder-checkpoint.ipynb\n",
      " create mode 100644 .ipynb_checkpoints/git control-checkpoint.ipynb\n",
      " create mode 100644 Autoencoder.ipynb\n",
      " create mode 100644 Data Preprocessing for 499.ipynb\n",
      " create mode 100644 EN-DE based CNN.ipynb\n",
      " create mode 100644 NewDataViT.ipynb\n",
      " create mode 100644 Practice 1.ipynb\n",
      " create mode 100644 Simplified Custom Model-Copy1.ipynb\n",
      " create mode 100644 Simplified Custom Model.ipynb\n",
      " create mode 100644 U-Net like CNN.ipynb\n",
      " create mode 100644 Untitled.ipynb\n",
      " create mode 100644 ViT 2.ipynb\n",
      " create mode 100644 ViT.ipynb\n",
      " create mode 100644 ViT3.ipynb\n",
      " create mode 100644 ViT4.ipynb\n",
      " create mode 100644 git control.ipynb\n"
     ]
    }
   ],
   "source": [
    "!git commit -m \"Initialize Jupyter Notebook Files for CSE499\""
   ]
  },
  {
   "cell_type": "code",
   "execution_count": 12,
   "id": "c5236970-2ca2-484e-9351-dfe3b5b74352",
   "metadata": {},
   "outputs": [
    {
     "name": "stdout",
     "output_type": "stream",
     "text": [
      "usage: git [-v | --version] [-h | --help] [-C <path>] [-c <name>=<value>]\n",
      "           [--exec-path[=<path>]] [--html-path] [--man-path] [--info-path]\n",
      "           [-p | --paginate | -P | --no-pager] [--no-replace-objects] [--bare]\n",
      "           [--git-dir=<path>] [--work-tree=<path>] [--namespace=<name>]\n",
      "           [--config-env=<name>=<envvar>] <command> [<args>]\n",
      "\n",
      "These are common Git commands used in various situations:\n",
      "\n",
      "start a working area (see also: git help tutorial)\n",
      "   clone     Clone a repository into a new directory\n",
      "   init      Create an empty Git repository or reinitialize an existing one\n",
      "\n",
      "work on the current change (see also: git help everyday)\n",
      "   add       Add file contents to the index\n",
      "   mv        Move or rename a file, a directory, or a symlink\n",
      "   restore   Restore working tree files\n",
      "   rm        Remove files from the working tree and from the index\n",
      "\n",
      "examine the history and state (see also: git help revisions)\n",
      "   bisect    Use binary search to find the commit that introduced a bug\n",
      "   diff      Show changes between commits, commit and working tree, etc\n",
      "   grep      Print lines matching a pattern\n",
      "   log       Show commit logs\n",
      "   show      Show various types of objects\n",
      "   status    Show the working tree status\n",
      "\n",
      "grow, mark and tweak your common history\n",
      "   branch    List, create, or delete branches\n",
      "   commit    Record changes to the repository\n",
      "   merge     Join two or more development histories together\n",
      "   rebase    Reapply commits on top of another base tip\n",
      "   reset     Reset current HEAD to the specified state\n",
      "   switch    Switch branches\n",
      "   tag       Create, list, delete or verify a tag object signed with GPG\n",
      "\n",
      "collaborate (see also: git help workflows)\n",
      "   fetch     Download objects and refs from another repository\n",
      "   pull      Fetch from and integrate with another repository or a local branch\n",
      "   push      Update remote refs along with associated objects\n",
      "\n",
      "'git help -a' and 'git help -g' list available subcommands and some\n",
      "concept guides. See 'git help <command>' or 'git help <concept>'\n",
      "to read about a specific subcommand or concept.\n",
      "See 'git help git' for an overview of the system.\n"
     ]
    }
   ],
   "source": [
    "!git -h"
   ]
  },
  {
   "cell_type": "code",
   "execution_count": 1,
   "id": "fb082b46-d3c8-452c-9b6c-069ec8caf060",
   "metadata": {},
   "outputs": [
    {
     "name": "stderr",
     "output_type": "stream",
     "text": [
      "git: 'origin' is not a git command. See 'git --help'.\n"
     ]
    }
   ],
   "source": [
    "!git origin"
   ]
  },
  {
   "cell_type": "code",
   "execution_count": 2,
   "id": "b7d8504b-91dc-412e-ac20-b10acdb44c0e",
   "metadata": {},
   "outputs": [
    {
     "name": "stderr",
     "output_type": "stream",
     "text": [
      "unknown option: -u\n",
      "usage: git [-v | --version] [-h | --help] [-C <path>] [-c <name>=<value>]\n",
      "           [--exec-path[=<path>]] [--html-path] [--man-path] [--info-path]\n",
      "           [-p | --paginate | -P | --no-pager] [--no-replace-objects] [--bare]\n",
      "           [--git-dir=<path>] [--work-tree=<path>] [--namespace=<name>]\n",
      "           [--config-env=<name>=<envvar>] <command> [<args>]\n"
     ]
    }
   ],
   "source": [
    "!git -u origin"
   ]
  },
  {
   "cell_type": "code",
   "execution_count": 3,
   "id": "8af8d24d-bb9d-4894-b99c-6da892ee79e0",
   "metadata": {},
   "outputs": [
    {
     "name": "stderr",
     "output_type": "stream",
     "text": [
      "Everything up-to-date\n"
     ]
    }
   ],
   "source": [
    "!git push"
   ]
  },
  {
   "cell_type": "code",
   "execution_count": 4,
   "id": "05392b05-8187-40b6-9324-8d77b26328d9",
   "metadata": {},
   "outputs": [
    {
     "name": "stdout",
     "output_type": "stream",
     "text": [
      "On branch master\n",
      "Your branch is up to date with 'origin/master'.\n",
      "\n",
      "nothing to commit, working tree clean\n"
     ]
    }
   ],
   "source": [
    "!git status"
   ]
  },
  {
   "cell_type": "code",
   "execution_count": 6,
   "id": "1c2fe986-5450-4726-81ea-d21f08b9de15",
   "metadata": {},
   "outputs": [
    {
     "name": "stdout",
     "output_type": "stream",
     "text": [
      "https://github.com/sababashfak/CSE499_Jupyter.git\n"
     ]
    }
   ],
   "source": [
    "!git ls-remote --get-url origin"
   ]
  },
  {
   "cell_type": "code",
   "execution_count": 7,
   "id": "a0725080-8e1f-4196-a1c9-857e0b7313d9",
   "metadata": {},
   "outputs": [
    {
     "name": "stdout",
     "output_type": "stream",
     "text": [
      "On branch master\n",
      "Your branch is up to date with 'origin/master'.\n",
      "\n",
      "Changes not staged for commit:\n",
      "  (use \"git add <file>...\" to update what will be committed)\n",
      "  (use \"git restore <file>...\" to discard changes in working directory)\n",
      "\tmodified:   git control.ipynb\n",
      "\n",
      "Untracked files:\n",
      "  (use \"git add <file>...\" to include in what will be committed)\n",
      "\t.ipynb_checkpoints/Data Preprocess 8matrix-checkpoint.ipynb\n",
      "\t.ipynb_checkpoints/Data Preprocessing for 499-checkpoint.ipynb\n",
      "\tData Preprocess 8matrix.ipynb\n",
      "\n",
      "no changes added to commit (use \"git add\" and/or \"git commit -a\")\n"
     ]
    }
   ],
   "source": [
    "!git status"
   ]
  },
  {
   "cell_type": "code",
   "execution_count": 8,
   "id": "be9238fe-64fe-4be1-bb20-9803abf5c6cd",
   "metadata": {},
   "outputs": [
    {
     "name": "stderr",
     "output_type": "stream",
     "text": [
      "warning: in the working copy of 'git control.ipynb', LF will be replaced by CRLF the next time Git touches it\n",
      "warning: in the working copy of '.ipynb_checkpoints/Data Preprocess 8matrix-checkpoint.ipynb', LF will be replaced by CRLF the next time Git touches it\n",
      "warning: in the working copy of '.ipynb_checkpoints/Data Preprocessing for 499-checkpoint.ipynb', LF will be replaced by CRLF the next time Git touches it\n",
      "warning: in the working copy of 'Data Preprocess 8matrix.ipynb', LF will be replaced by CRLF the next time Git touches it\n"
     ]
    }
   ],
   "source": [
    "!git add ."
   ]
  },
  {
   "cell_type": "code",
   "execution_count": 9,
   "id": "108c2e18-6377-46ad-9111-e0cfcff2e23b",
   "metadata": {},
   "outputs": [
    {
     "name": "stdout",
     "output_type": "stream",
     "text": [
      "[master 9221617] Add data preprossesing\n",
      " 4 files changed, 9814 insertions(+), 1 deletion(-)\n",
      " create mode 100644 .ipynb_checkpoints/Data Preprocess 8matrix-checkpoint.ipynb\n",
      " create mode 100644 .ipynb_checkpoints/Data Preprocessing for 499-checkpoint.ipynb\n",
      " create mode 100644 Data Preprocess 8matrix.ipynb\n"
     ]
    }
   ],
   "source": [
    "!git commit -m \"Add data preprossesing\""
   ]
  },
  {
   "cell_type": "code",
   "execution_count": 10,
   "id": "782338ec-e63b-4481-b0e1-657040c133f0",
   "metadata": {},
   "outputs": [
    {
     "name": "stdout",
     "output_type": "stream",
     "text": [
      "branch 'master' set up to track 'origin/master'.\n"
     ]
    },
    {
     "name": "stderr",
     "output_type": "stream",
     "text": [
      "To https://github.com/sababashfak/CSE499_Jupyter.git\n",
      "   16c77de..9221617  master -> master\n"
     ]
    }
   ],
   "source": [
    "!git push -u origin"
   ]
  },
  {
   "cell_type": "code",
   "execution_count": 11,
   "id": "a96b8902-fee0-4119-bb2e-d68c79ad9a3b",
   "metadata": {},
   "outputs": [
    {
     "name": "stderr",
     "output_type": "stream",
     "text": [
      "Everything up-to-date\n"
     ]
    }
   ],
   "source": [
    "!git push"
   ]
  },
  {
   "cell_type": "code",
   "execution_count": 14,
   "id": "79bdafed-9d1e-47bf-a182-984c9e3aa42f",
   "metadata": {},
   "outputs": [
    {
     "name": "stdout",
     "output_type": "stream",
     "text": [
      "[master ca81cf8] Complete 3 model comparison for 8*8 matrix with small csv data.\n",
      " 7 files changed, 4068 insertions(+), 3 deletions(-)\n",
      " create mode 100644 .ipynb_checkpoints/3Model Compare for 8matrix csv small data-checkpoint.ipynb\n",
      " create mode 100644 3Model Compare for 8matrix csv small data.ipynb\n",
      " create mode 100644 cnnae_best.h5\n",
      " create mode 100644 unet_best.h5\n",
      " create mode 100644 vit_best.h5\n"
     ]
    }
   ],
   "source": [
    "!git commit -m \"Complete 3 model comparison for 8*8 matrix with small csv data.\""
   ]
  },
  {
   "cell_type": "code",
   "execution_count": 15,
   "id": "71854181-4e5f-4b31-81d0-0091a4126aba",
   "metadata": {},
   "outputs": [
    {
     "name": "stderr",
     "output_type": "stream",
     "text": [
      "To https://github.com/sababashfak/CSE499_Jupyter.git\n",
      "   9221617..ca81cf8  master -> master\n"
     ]
    }
   ],
   "source": [
    "!git push"
   ]
  },
  {
   "cell_type": "code",
   "execution_count": 16,
   "id": "78dd6fa1-a285-4c90-8015-ac22a5d70f46",
   "metadata": {},
   "outputs": [
    {
     "name": "stderr",
     "output_type": "stream",
     "text": [
      "Everything up-to-date\n"
     ]
    }
   ],
   "source": [
    "!git push"
   ]
  },
  {
   "cell_type": "code",
   "execution_count": 17,
   "id": "96fe725d-2632-4400-93d0-ae92113210d7",
   "metadata": {},
   "outputs": [
    {
     "name": "stdout",
     "output_type": "stream",
     "text": [
      "On branch master\n",
      "Your branch is up to date with 'origin/master'.\n",
      "\n",
      "Changes not staged for commit:\n",
      "  (use \"git add <file>...\" to update what will be committed)\n",
      "  (use \"git restore <file>...\" to discard changes in working directory)\n",
      "\tmodified:   git control.ipynb\n",
      "\n",
      "no changes added to commit (use \"git add\" and/or \"git commit -a\")\n"
     ]
    }
   ],
   "source": [
    "!git status"
   ]
  },
  {
   "cell_type": "code",
   "execution_count": null,
   "id": "c69bbdb4-7c93-4c96-b7d6-d2f486857435",
   "metadata": {},
   "outputs": [],
   "source": []
  }
 ],
 "metadata": {
  "kernelspec": {
   "display_name": "Python 3 (ipykernel)",
   "language": "python",
   "name": "python3"
  },
  "language_info": {
   "codemirror_mode": {
    "name": "ipython",
    "version": 3
   },
   "file_extension": ".py",
   "mimetype": "text/x-python",
   "name": "python",
   "nbconvert_exporter": "python",
   "pygments_lexer": "ipython3",
   "version": "3.12.7"
  }
 },
 "nbformat": 4,
 "nbformat_minor": 5
}
