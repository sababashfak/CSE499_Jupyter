{
 "cells": [
  {
   "cell_type": "code",
   "execution_count": 1,
   "id": "775a428d-8e5b-48b8-abe4-1432e5fad202",
   "metadata": {},
   "outputs": [
    {
     "name": "stdout",
     "output_type": "stream",
     "text": [
      "git version 2.40.0.windows.1\n"
     ]
    }
   ],
   "source": [
    "!git --version"
   ]
  },
  {
   "cell_type": "code",
   "execution_count": 4,
   "id": "bc361ee8-517c-43f9-801b-07860400193d",
   "metadata": {},
   "outputs": [
    {
     "name": "stdout",
     "output_type": "stream",
     "text": [
      "Initialized empty Git repository in C:/Users/User/Jupyter File/.git/\n"
     ]
    }
   ],
   "source": [
    "!git init"
   ]
  },
  {
   "cell_type": "code",
   "execution_count": 1,
   "id": "998f18a5-18bd-4b6a-bdd2-c8bf4d9b02b6",
   "metadata": {},
   "outputs": [
    {
     "name": "stdout",
     "output_type": "stream",
     "text": [
      "On branch master\n",
      "Your branch is up to date with 'origin/master'.\n",
      "\n",
      "Changes not staged for commit:\n",
      "  (use \"git add <file>...\" to update what will be committed)\n",
      "  (use \"git restore <file>...\" to discard changes in working directory)\n",
      "\tmodified:   Simplified Custom Model-Copy1.ipynb\n",
      "\tmodified:   git control.ipynb\n",
      "\n",
      "Untracked files:\n",
      "  (use \"git add <file>...\" to include in what will be committed)\n",
      "\t.ipynb_checkpoints/Custom CNN with Only Even Image-checkpoint.ipynb\n",
      "\t.ipynb_checkpoints/Efficentnet + Decoder-checkpoint.ipynb\n",
      "\t.ipynb_checkpoints/Simplified Custom Model-Copy1-checkpoint.ipynb\n",
      "\tCustom CNN with Only Even Image.ipynb\n",
      "\tEfficentnet + Decoder.ipynb\n",
      "\tbest_model.keras\n",
      "\teven_only_model.keras\n",
      "\thyperparam_tuning/\n",
      "\tlogs/\n",
      "\ttuner_dir/\n",
      "\n",
      "no changes added to commit (use \"git add\" and/or \"git commit -a\")\n"
     ]
    }
   ],
   "source": [
    "!git status"
   ]
  },
  {
   "cell_type": "code",
   "execution_count": 2,
   "id": "08ffe14a-6fe7-4b4c-8a08-1cba5f49a3f6",
   "metadata": {},
   "outputs": [
    {
     "name": "stderr",
     "output_type": "stream",
     "text": [
      "warning: in the working copy of 'Simplified Custom Model-Copy1.ipynb', LF will be replaced by CRLF the next time Git touches it\n",
      "warning: in the working copy of 'git control.ipynb', LF will be replaced by CRLF the next time Git touches it\n",
      "warning: in the working copy of '.ipynb_checkpoints/Custom CNN with Only Even Image-checkpoint.ipynb', LF will be replaced by CRLF the next time Git touches it\n",
      "warning: in the working copy of '.ipynb_checkpoints/Efficentnet + Decoder-checkpoint.ipynb', LF will be replaced by CRLF the next time Git touches it\n",
      "warning: in the working copy of '.ipynb_checkpoints/Simplified Custom Model-Copy1-checkpoint.ipynb', LF will be replaced by CRLF the next time Git touches it\n",
      "warning: in the working copy of 'Custom CNN with Only Even Image.ipynb', LF will be replaced by CRLF the next time Git touches it\n",
      "warning: in the working copy of 'Efficentnet + Decoder.ipynb', LF will be replaced by CRLF the next time Git touches it\n"
     ]
    }
   ],
   "source": [
    "!git add ."
   ]
  },
  {
   "cell_type": "code",
   "execution_count": 3,
   "id": "f06b8379-34a6-4c90-9a31-d28f27774b6d",
   "metadata": {},
   "outputs": [
    {
     "name": "stdout",
     "output_type": "stream",
     "text": [
      "On branch master\n",
      "Your branch is up to date with 'origin/master'.\n",
      "\n",
      "Changes to be committed:\n",
      "  (use \"git restore --staged <file>...\" to unstage)\n",
      "\tnew file:   .ipynb_checkpoints/Custom CNN with Only Even Image-checkpoint.ipynb\n",
      "\tnew file:   .ipynb_checkpoints/Efficentnet + Decoder-checkpoint.ipynb\n",
      "\tnew file:   .ipynb_checkpoints/Simplified Custom Model-Copy1-checkpoint.ipynb\n",
      "\tnew file:   Custom CNN with Only Even Image.ipynb\n",
      "\tnew file:   Efficentnet + Decoder.ipynb\n",
      "\tmodified:   Simplified Custom Model-Copy1.ipynb\n",
      "\tnew file:   best_model.keras\n",
      "\tnew file:   even_only_model.keras\n",
      "\tmodified:   git control.ipynb\n",
      "\tnew file:   hyperparam_tuning/unet_efficientnet/oracle.json\n",
      "\tnew file:   hyperparam_tuning/unet_efficientnet/trial_00/build_config.json\n",
      "\tnew file:   hyperparam_tuning/unet_efficientnet/trial_00/checkpoint.weights.h5\n",
      "\tnew file:   hyperparam_tuning/unet_efficientnet/trial_00/trial.json\n",
      "\tnew file:   hyperparam_tuning/unet_efficientnet/trial_01/build_config.json\n",
      "\tnew file:   hyperparam_tuning/unet_efficientnet/trial_01/checkpoint.weights.h5\n",
      "\tnew file:   hyperparam_tuning/unet_efficientnet/trial_01/trial.json\n",
      "\tnew file:   hyperparam_tuning/unet_efficientnet/trial_02/build_config.json\n",
      "\tnew file:   hyperparam_tuning/unet_efficientnet/trial_02/checkpoint.weights.h5\n",
      "\tnew file:   hyperparam_tuning/unet_efficientnet/trial_02/trial.json\n",
      "\tnew file:   hyperparam_tuning/unet_efficientnet/trial_03/build_config.json\n",
      "\tnew file:   hyperparam_tuning/unet_efficientnet/trial_03/checkpoint.weights.h5\n",
      "\tnew file:   hyperparam_tuning/unet_efficientnet/trial_03/trial.json\n",
      "\tnew file:   hyperparam_tuning/unet_efficientnet/trial_04/build_config.json\n",
      "\tnew file:   hyperparam_tuning/unet_efficientnet/trial_04/checkpoint.weights.h5\n",
      "\tnew file:   hyperparam_tuning/unet_efficientnet/trial_04/trial.json\n",
      "\tnew file:   hyperparam_tuning/unet_efficientnet/trial_05/build_config.json\n",
      "\tnew file:   hyperparam_tuning/unet_efficientnet/trial_05/checkpoint.weights.h5\n",
      "\tnew file:   hyperparam_tuning/unet_efficientnet/trial_05/trial.json\n",
      "\tnew file:   hyperparam_tuning/unet_efficientnet/trial_06/build_config.json\n",
      "\tnew file:   hyperparam_tuning/unet_efficientnet/trial_06/checkpoint.weights.h5\n",
      "\tnew file:   hyperparam_tuning/unet_efficientnet/trial_06/trial.json\n",
      "\tnew file:   hyperparam_tuning/unet_efficientnet/trial_07/build_config.json\n",
      "\tnew file:   hyperparam_tuning/unet_efficientnet/trial_07/checkpoint.weights.h5\n",
      "\tnew file:   hyperparam_tuning/unet_efficientnet/trial_07/trial.json\n",
      "\tnew file:   hyperparam_tuning/unet_efficientnet/trial_08/build_config.json\n",
      "\tnew file:   hyperparam_tuning/unet_efficientnet/trial_08/checkpoint.weights.h5\n",
      "\tnew file:   hyperparam_tuning/unet_efficientnet/trial_08/trial.json\n",
      "\tnew file:   hyperparam_tuning/unet_efficientnet/trial_09/build_config.json\n",
      "\tnew file:   hyperparam_tuning/unet_efficientnet/trial_09/checkpoint.weights.h5\n",
      "\tnew file:   hyperparam_tuning/unet_efficientnet/trial_09/trial.json\n",
      "\tnew file:   hyperparam_tuning/unet_efficientnet/tuner0.json\n",
      "\tnew file:   logs/train/events.out.tfevents.1751551240.SABAB-ASHFAK-FA.60588.0.v2\n",
      "\tnew file:   logs/validation/events.out.tfevents.1751551249.SABAB-ASHFAK-FA.60588.1.v2\n",
      "\tnew file:   tuner_dir/gray_tuning/oracle.json\n",
      "\tnew file:   tuner_dir/gray_tuning/trial_0000/build_config.json\n",
      "\tnew file:   tuner_dir/gray_tuning/trial_0000/checkpoint.weights.h5\n",
      "\tnew file:   tuner_dir/gray_tuning/trial_0000/trial.json\n",
      "\tnew file:   tuner_dir/gray_tuning/trial_0001/build_config.json\n",
      "\tnew file:   tuner_dir/gray_tuning/trial_0001/checkpoint.weights.h5\n",
      "\tnew file:   tuner_dir/gray_tuning/trial_0001/trial.json\n",
      "\tnew file:   tuner_dir/gray_tuning/trial_0002/build_config.json\n",
      "\tnew file:   tuner_dir/gray_tuning/trial_0002/checkpoint.weights.h5\n",
      "\tnew file:   tuner_dir/gray_tuning/trial_0002/trial.json\n",
      "\tnew file:   tuner_dir/gray_tuning/trial_0003/build_config.json\n",
      "\tnew file:   tuner_dir/gray_tuning/trial_0003/checkpoint.weights.h5\n",
      "\tnew file:   tuner_dir/gray_tuning/trial_0003/trial.json\n",
      "\tnew file:   tuner_dir/gray_tuning/trial_0004/build_config.json\n",
      "\tnew file:   tuner_dir/gray_tuning/trial_0004/checkpoint.weights.h5\n",
      "\tnew file:   tuner_dir/gray_tuning/trial_0004/trial.json\n",
      "\tnew file:   tuner_dir/gray_tuning/trial_0005/build_config.json\n",
      "\tnew file:   tuner_dir/gray_tuning/trial_0005/checkpoint.weights.h5\n",
      "\tnew file:   tuner_dir/gray_tuning/trial_0005/trial.json\n",
      "\tnew file:   tuner_dir/gray_tuning/trial_0006/build_config.json\n",
      "\tnew file:   tuner_dir/gray_tuning/trial_0006/checkpoint.weights.h5\n",
      "\tnew file:   tuner_dir/gray_tuning/trial_0006/trial.json\n",
      "\tnew file:   tuner_dir/gray_tuning/trial_0007/build_config.json\n",
      "\tnew file:   tuner_dir/gray_tuning/trial_0007/checkpoint.weights.h5\n",
      "\tnew file:   tuner_dir/gray_tuning/trial_0007/trial.json\n",
      "\tnew file:   tuner_dir/gray_tuning/trial_0008/build_config.json\n",
      "\tnew file:   tuner_dir/gray_tuning/trial_0008/checkpoint.weights.h5\n",
      "\tnew file:   tuner_dir/gray_tuning/trial_0008/trial.json\n",
      "\tnew file:   tuner_dir/gray_tuning/trial_0009/build_config.json\n",
      "\tnew file:   tuner_dir/gray_tuning/trial_0009/checkpoint.weights.h5\n",
      "\tnew file:   tuner_dir/gray_tuning/trial_0009/trial.json\n",
      "\tnew file:   tuner_dir/gray_tuning/trial_0010/build_config.json\n",
      "\tnew file:   tuner_dir/gray_tuning/trial_0010/checkpoint.weights.h5\n",
      "\tnew file:   tuner_dir/gray_tuning/trial_0010/trial.json\n",
      "\tnew file:   tuner_dir/gray_tuning/trial_0011/build_config.json\n",
      "\tnew file:   tuner_dir/gray_tuning/trial_0011/checkpoint.weights.h5\n",
      "\tnew file:   tuner_dir/gray_tuning/trial_0011/trial.json\n",
      "\tnew file:   tuner_dir/gray_tuning/trial_0012/build_config.json\n",
      "\tnew file:   tuner_dir/gray_tuning/trial_0012/checkpoint.weights.h5\n",
      "\tnew file:   tuner_dir/gray_tuning/trial_0012/trial.json\n",
      "\tnew file:   tuner_dir/gray_tuning/trial_0013/build_config.json\n",
      "\tnew file:   tuner_dir/gray_tuning/trial_0013/checkpoint.weights.h5\n",
      "\tnew file:   tuner_dir/gray_tuning/trial_0013/trial.json\n",
      "\tnew file:   tuner_dir/gray_tuning/trial_0014/build_config.json\n",
      "\tnew file:   tuner_dir/gray_tuning/trial_0014/checkpoint.weights.h5\n",
      "\tnew file:   tuner_dir/gray_tuning/trial_0014/trial.json\n",
      "\tnew file:   tuner_dir/gray_tuning/trial_0015/build_config.json\n",
      "\tnew file:   tuner_dir/gray_tuning/trial_0015/checkpoint.weights.h5\n",
      "\tnew file:   tuner_dir/gray_tuning/trial_0015/trial.json\n",
      "\tnew file:   tuner_dir/gray_tuning/trial_0016/build_config.json\n",
      "\tnew file:   tuner_dir/gray_tuning/trial_0016/checkpoint.weights.h5\n",
      "\tnew file:   tuner_dir/gray_tuning/trial_0016/trial.json\n",
      "\tnew file:   tuner_dir/gray_tuning/trial_0017/build_config.json\n",
      "\tnew file:   tuner_dir/gray_tuning/trial_0017/checkpoint.weights.h5\n",
      "\tnew file:   tuner_dir/gray_tuning/trial_0017/trial.json\n",
      "\tnew file:   tuner_dir/gray_tuning/trial_0018/build_config.json\n",
      "\tnew file:   tuner_dir/gray_tuning/trial_0018/checkpoint.weights.h5\n",
      "\tnew file:   tuner_dir/gray_tuning/trial_0018/trial.json\n",
      "\tnew file:   tuner_dir/gray_tuning/trial_0019/build_config.json\n",
      "\tnew file:   tuner_dir/gray_tuning/trial_0019/checkpoint.weights.h5\n",
      "\tnew file:   tuner_dir/gray_tuning/trial_0019/trial.json\n",
      "\tnew file:   tuner_dir/gray_tuning/trial_0020/build_config.json\n",
      "\tnew file:   tuner_dir/gray_tuning/trial_0020/checkpoint.weights.h5\n",
      "\tnew file:   tuner_dir/gray_tuning/trial_0020/trial.json\n",
      "\tnew file:   tuner_dir/gray_tuning/trial_0021/build_config.json\n",
      "\tnew file:   tuner_dir/gray_tuning/trial_0021/checkpoint.weights.h5\n",
      "\tnew file:   tuner_dir/gray_tuning/trial_0021/trial.json\n",
      "\tnew file:   tuner_dir/gray_tuning/trial_0022/build_config.json\n",
      "\tnew file:   tuner_dir/gray_tuning/trial_0022/checkpoint.weights.h5\n",
      "\tnew file:   tuner_dir/gray_tuning/trial_0022/trial.json\n",
      "\tnew file:   tuner_dir/gray_tuning/trial_0023/build_config.json\n",
      "\tnew file:   tuner_dir/gray_tuning/trial_0023/checkpoint.weights.h5\n",
      "\tnew file:   tuner_dir/gray_tuning/trial_0023/trial.json\n",
      "\tnew file:   tuner_dir/gray_tuning/trial_0024/build_config.json\n",
      "\tnew file:   tuner_dir/gray_tuning/trial_0024/checkpoint.weights.h5\n",
      "\tnew file:   tuner_dir/gray_tuning/trial_0024/trial.json\n",
      "\tnew file:   tuner_dir/gray_tuning/trial_0025/build_config.json\n",
      "\tnew file:   tuner_dir/gray_tuning/trial_0025/checkpoint.weights.h5\n",
      "\tnew file:   tuner_dir/gray_tuning/trial_0025/trial.json\n",
      "\tnew file:   tuner_dir/gray_tuning/trial_0026/build_config.json\n",
      "\tnew file:   tuner_dir/gray_tuning/trial_0026/checkpoint.weights.h5\n",
      "\tnew file:   tuner_dir/gray_tuning/trial_0026/trial.json\n",
      "\tnew file:   tuner_dir/gray_tuning/trial_0027/build_config.json\n",
      "\tnew file:   tuner_dir/gray_tuning/trial_0027/checkpoint.weights.h5\n",
      "\tnew file:   tuner_dir/gray_tuning/trial_0027/trial.json\n",
      "\tnew file:   tuner_dir/gray_tuning/trial_0028/build_config.json\n",
      "\tnew file:   tuner_dir/gray_tuning/trial_0028/checkpoint.weights.h5\n",
      "\tnew file:   tuner_dir/gray_tuning/trial_0028/trial.json\n",
      "\tnew file:   tuner_dir/gray_tuning/trial_0029/build_config.json\n",
      "\tnew file:   tuner_dir/gray_tuning/trial_0029/checkpoint.weights.h5\n",
      "\tnew file:   tuner_dir/gray_tuning/trial_0029/trial.json\n",
      "\tnew file:   tuner_dir/gray_tuning/tuner0.json\n",
      "\n"
     ]
    }
   ],
   "source": [
    "!git status"
   ]
  },
  {
   "cell_type": "code",
   "execution_count": 4,
   "id": "045950bb-1e3a-456c-9b1f-d18fe747a503",
   "metadata": {},
   "outputs": [
    {
     "name": "stdout",
     "output_type": "stream",
     "text": [
      "[master 1af2b0a] Use Hyper parametre tuning and corelation finding\n",
      " 135 files changed, 2009 insertions(+), 15 deletions(-)\n",
      " create mode 100644 .ipynb_checkpoints/Custom CNN with Only Even Image-checkpoint.ipynb\n",
      " create mode 100644 .ipynb_checkpoints/Efficentnet + Decoder-checkpoint.ipynb\n",
      " create mode 100644 .ipynb_checkpoints/Simplified Custom Model-Copy1-checkpoint.ipynb\n",
      " create mode 100644 Custom CNN with Only Even Image.ipynb\n",
      " create mode 100644 Efficentnet + Decoder.ipynb\n",
      " create mode 100644 best_model.keras\n",
      " create mode 100644 even_only_model.keras\n",
      " create mode 100644 hyperparam_tuning/unet_efficientnet/oracle.json\n",
      " create mode 100644 hyperparam_tuning/unet_efficientnet/trial_00/build_config.json\n",
      " create mode 100644 hyperparam_tuning/unet_efficientnet/trial_00/checkpoint.weights.h5\n",
      " create mode 100644 hyperparam_tuning/unet_efficientnet/trial_00/trial.json\n",
      " create mode 100644 hyperparam_tuning/unet_efficientnet/trial_01/build_config.json\n",
      " create mode 100644 hyperparam_tuning/unet_efficientnet/trial_01/checkpoint.weights.h5\n",
      " create mode 100644 hyperparam_tuning/unet_efficientnet/trial_01/trial.json\n",
      " create mode 100644 hyperparam_tuning/unet_efficientnet/trial_02/build_config.json\n",
      " create mode 100644 hyperparam_tuning/unet_efficientnet/trial_02/checkpoint.weights.h5\n",
      " create mode 100644 hyperparam_tuning/unet_efficientnet/trial_02/trial.json\n",
      " create mode 100644 hyperparam_tuning/unet_efficientnet/trial_03/build_config.json\n",
      " create mode 100644 hyperparam_tuning/unet_efficientnet/trial_03/checkpoint.weights.h5\n",
      " create mode 100644 hyperparam_tuning/unet_efficientnet/trial_03/trial.json\n",
      " create mode 100644 hyperparam_tuning/unet_efficientnet/trial_04/build_config.json\n",
      " create mode 100644 hyperparam_tuning/unet_efficientnet/trial_04/checkpoint.weights.h5\n",
      " create mode 100644 hyperparam_tuning/unet_efficientnet/trial_04/trial.json\n",
      " create mode 100644 hyperparam_tuning/unet_efficientnet/trial_05/build_config.json\n",
      " create mode 100644 hyperparam_tuning/unet_efficientnet/trial_05/checkpoint.weights.h5\n",
      " create mode 100644 hyperparam_tuning/unet_efficientnet/trial_05/trial.json\n",
      " create mode 100644 hyperparam_tuning/unet_efficientnet/trial_06/build_config.json\n",
      " create mode 100644 hyperparam_tuning/unet_efficientnet/trial_06/checkpoint.weights.h5\n",
      " create mode 100644 hyperparam_tuning/unet_efficientnet/trial_06/trial.json\n",
      " create mode 100644 hyperparam_tuning/unet_efficientnet/trial_07/build_config.json\n",
      " create mode 100644 hyperparam_tuning/unet_efficientnet/trial_07/checkpoint.weights.h5\n",
      " create mode 100644 hyperparam_tuning/unet_efficientnet/trial_07/trial.json\n",
      " create mode 100644 hyperparam_tuning/unet_efficientnet/trial_08/build_config.json\n",
      " create mode 100644 hyperparam_tuning/unet_efficientnet/trial_08/checkpoint.weights.h5\n",
      " create mode 100644 hyperparam_tuning/unet_efficientnet/trial_08/trial.json\n",
      " create mode 100644 hyperparam_tuning/unet_efficientnet/trial_09/build_config.json\n",
      " create mode 100644 hyperparam_tuning/unet_efficientnet/trial_09/checkpoint.weights.h5\n",
      " create mode 100644 hyperparam_tuning/unet_efficientnet/trial_09/trial.json\n",
      " create mode 100644 hyperparam_tuning/unet_efficientnet/tuner0.json\n",
      " create mode 100644 logs/train/events.out.tfevents.1751551240.SABAB-ASHFAK-FA.60588.0.v2\n",
      " create mode 100644 logs/validation/events.out.tfevents.1751551249.SABAB-ASHFAK-FA.60588.1.v2\n",
      " create mode 100644 tuner_dir/gray_tuning/oracle.json\n",
      " create mode 100644 tuner_dir/gray_tuning/trial_0000/build_config.json\n",
      " create mode 100644 tuner_dir/gray_tuning/trial_0000/checkpoint.weights.h5\n",
      " create mode 100644 tuner_dir/gray_tuning/trial_0000/trial.json\n",
      " create mode 100644 tuner_dir/gray_tuning/trial_0001/build_config.json\n",
      " create mode 100644 tuner_dir/gray_tuning/trial_0001/checkpoint.weights.h5\n",
      " create mode 100644 tuner_dir/gray_tuning/trial_0001/trial.json\n",
      " create mode 100644 tuner_dir/gray_tuning/trial_0002/build_config.json\n",
      " create mode 100644 tuner_dir/gray_tuning/trial_0002/checkpoint.weights.h5\n",
      " create mode 100644 tuner_dir/gray_tuning/trial_0002/trial.json\n",
      " create mode 100644 tuner_dir/gray_tuning/trial_0003/build_config.json\n",
      " create mode 100644 tuner_dir/gray_tuning/trial_0003/checkpoint.weights.h5\n",
      " create mode 100644 tuner_dir/gray_tuning/trial_0003/trial.json\n",
      " create mode 100644 tuner_dir/gray_tuning/trial_0004/build_config.json\n",
      " create mode 100644 tuner_dir/gray_tuning/trial_0004/checkpoint.weights.h5\n",
      " create mode 100644 tuner_dir/gray_tuning/trial_0004/trial.json\n",
      " create mode 100644 tuner_dir/gray_tuning/trial_0005/build_config.json\n",
      " create mode 100644 tuner_dir/gray_tuning/trial_0005/checkpoint.weights.h5\n",
      " create mode 100644 tuner_dir/gray_tuning/trial_0005/trial.json\n",
      " create mode 100644 tuner_dir/gray_tuning/trial_0006/build_config.json\n",
      " create mode 100644 tuner_dir/gray_tuning/trial_0006/checkpoint.weights.h5\n",
      " create mode 100644 tuner_dir/gray_tuning/trial_0006/trial.json\n",
      " create mode 100644 tuner_dir/gray_tuning/trial_0007/build_config.json\n",
      " create mode 100644 tuner_dir/gray_tuning/trial_0007/checkpoint.weights.h5\n",
      " create mode 100644 tuner_dir/gray_tuning/trial_0007/trial.json\n",
      " create mode 100644 tuner_dir/gray_tuning/trial_0008/build_config.json\n",
      " create mode 100644 tuner_dir/gray_tuning/trial_0008/checkpoint.weights.h5\n",
      " create mode 100644 tuner_dir/gray_tuning/trial_0008/trial.json\n",
      " create mode 100644 tuner_dir/gray_tuning/trial_0009/build_config.json\n",
      " create mode 100644 tuner_dir/gray_tuning/trial_0009/checkpoint.weights.h5\n",
      " create mode 100644 tuner_dir/gray_tuning/trial_0009/trial.json\n",
      " create mode 100644 tuner_dir/gray_tuning/trial_0010/build_config.json\n",
      " create mode 100644 tuner_dir/gray_tuning/trial_0010/checkpoint.weights.h5\n",
      " create mode 100644 tuner_dir/gray_tuning/trial_0010/trial.json\n",
      " create mode 100644 tuner_dir/gray_tuning/trial_0011/build_config.json\n",
      " create mode 100644 tuner_dir/gray_tuning/trial_0011/checkpoint.weights.h5\n",
      " create mode 100644 tuner_dir/gray_tuning/trial_0011/trial.json\n",
      " create mode 100644 tuner_dir/gray_tuning/trial_0012/build_config.json\n",
      " create mode 100644 tuner_dir/gray_tuning/trial_0012/checkpoint.weights.h5\n",
      " create mode 100644 tuner_dir/gray_tuning/trial_0012/trial.json\n",
      " create mode 100644 tuner_dir/gray_tuning/trial_0013/build_config.json\n",
      " create mode 100644 tuner_dir/gray_tuning/trial_0013/checkpoint.weights.h5\n",
      " create mode 100644 tuner_dir/gray_tuning/trial_0013/trial.json\n",
      " create mode 100644 tuner_dir/gray_tuning/trial_0014/build_config.json\n",
      " create mode 100644 tuner_dir/gray_tuning/trial_0014/checkpoint.weights.h5\n",
      " create mode 100644 tuner_dir/gray_tuning/trial_0014/trial.json\n",
      " create mode 100644 tuner_dir/gray_tuning/trial_0015/build_config.json\n",
      " create mode 100644 tuner_dir/gray_tuning/trial_0015/checkpoint.weights.h5\n",
      " create mode 100644 tuner_dir/gray_tuning/trial_0015/trial.json\n",
      " create mode 100644 tuner_dir/gray_tuning/trial_0016/build_config.json\n",
      " create mode 100644 tuner_dir/gray_tuning/trial_0016/checkpoint.weights.h5\n",
      " create mode 100644 tuner_dir/gray_tuning/trial_0016/trial.json\n",
      " create mode 100644 tuner_dir/gray_tuning/trial_0017/build_config.json\n",
      " create mode 100644 tuner_dir/gray_tuning/trial_0017/checkpoint.weights.h5\n",
      " create mode 100644 tuner_dir/gray_tuning/trial_0017/trial.json\n",
      " create mode 100644 tuner_dir/gray_tuning/trial_0018/build_config.json\n",
      " create mode 100644 tuner_dir/gray_tuning/trial_0018/checkpoint.weights.h5\n",
      " create mode 100644 tuner_dir/gray_tuning/trial_0018/trial.json\n",
      " create mode 100644 tuner_dir/gray_tuning/trial_0019/build_config.json\n",
      " create mode 100644 tuner_dir/gray_tuning/trial_0019/checkpoint.weights.h5\n",
      " create mode 100644 tuner_dir/gray_tuning/trial_0019/trial.json\n",
      " create mode 100644 tuner_dir/gray_tuning/trial_0020/build_config.json\n",
      " create mode 100644 tuner_dir/gray_tuning/trial_0020/checkpoint.weights.h5\n",
      " create mode 100644 tuner_dir/gray_tuning/trial_0020/trial.json\n",
      " create mode 100644 tuner_dir/gray_tuning/trial_0021/build_config.json\n",
      " create mode 100644 tuner_dir/gray_tuning/trial_0021/checkpoint.weights.h5\n",
      " create mode 100644 tuner_dir/gray_tuning/trial_0021/trial.json\n",
      " create mode 100644 tuner_dir/gray_tuning/trial_0022/build_config.json\n",
      " create mode 100644 tuner_dir/gray_tuning/trial_0022/checkpoint.weights.h5\n",
      " create mode 100644 tuner_dir/gray_tuning/trial_0022/trial.json\n",
      " create mode 100644 tuner_dir/gray_tuning/trial_0023/build_config.json\n",
      " create mode 100644 tuner_dir/gray_tuning/trial_0023/checkpoint.weights.h5\n",
      " create mode 100644 tuner_dir/gray_tuning/trial_0023/trial.json\n",
      " create mode 100644 tuner_dir/gray_tuning/trial_0024/build_config.json\n",
      " create mode 100644 tuner_dir/gray_tuning/trial_0024/checkpoint.weights.h5\n",
      " create mode 100644 tuner_dir/gray_tuning/trial_0024/trial.json\n",
      " create mode 100644 tuner_dir/gray_tuning/trial_0025/build_config.json\n",
      " create mode 100644 tuner_dir/gray_tuning/trial_0025/checkpoint.weights.h5\n",
      " create mode 100644 tuner_dir/gray_tuning/trial_0025/trial.json\n",
      " create mode 100644 tuner_dir/gray_tuning/trial_0026/build_config.json\n",
      " create mode 100644 tuner_dir/gray_tuning/trial_0026/checkpoint.weights.h5\n",
      " create mode 100644 tuner_dir/gray_tuning/trial_0026/trial.json\n",
      " create mode 100644 tuner_dir/gray_tuning/trial_0027/build_config.json\n",
      " create mode 100644 tuner_dir/gray_tuning/trial_0027/checkpoint.weights.h5\n",
      " create mode 100644 tuner_dir/gray_tuning/trial_0027/trial.json\n",
      " create mode 100644 tuner_dir/gray_tuning/trial_0028/build_config.json\n",
      " create mode 100644 tuner_dir/gray_tuning/trial_0028/checkpoint.weights.h5\n",
      " create mode 100644 tuner_dir/gray_tuning/trial_0028/trial.json\n",
      " create mode 100644 tuner_dir/gray_tuning/trial_0029/build_config.json\n",
      " create mode 100644 tuner_dir/gray_tuning/trial_0029/checkpoint.weights.h5\n",
      " create mode 100644 tuner_dir/gray_tuning/trial_0029/trial.json\n",
      " create mode 100644 tuner_dir/gray_tuning/tuner0.json\n"
     ]
    }
   ],
   "source": [
    "!git commit -m \"Use Hyper parametre tuning and corelation finding\""
   ]
  },
  {
   "cell_type": "code",
   "execution_count": 12,
   "id": "c5236970-2ca2-484e-9351-dfe3b5b74352",
   "metadata": {},
   "outputs": [
    {
     "name": "stdout",
     "output_type": "stream",
     "text": [
      "usage: git [-v | --version] [-h | --help] [-C <path>] [-c <name>=<value>]\n",
      "           [--exec-path[=<path>]] [--html-path] [--man-path] [--info-path]\n",
      "           [-p | --paginate | -P | --no-pager] [--no-replace-objects] [--bare]\n",
      "           [--git-dir=<path>] [--work-tree=<path>] [--namespace=<name>]\n",
      "           [--config-env=<name>=<envvar>] <command> [<args>]\n",
      "\n",
      "These are common Git commands used in various situations:\n",
      "\n",
      "start a working area (see also: git help tutorial)\n",
      "   clone     Clone a repository into a new directory\n",
      "   init      Create an empty Git repository or reinitialize an existing one\n",
      "\n",
      "work on the current change (see also: git help everyday)\n",
      "   add       Add file contents to the index\n",
      "   mv        Move or rename a file, a directory, or a symlink\n",
      "   restore   Restore working tree files\n",
      "   rm        Remove files from the working tree and from the index\n",
      "\n",
      "examine the history and state (see also: git help revisions)\n",
      "   bisect    Use binary search to find the commit that introduced a bug\n",
      "   diff      Show changes between commits, commit and working tree, etc\n",
      "   grep      Print lines matching a pattern\n",
      "   log       Show commit logs\n",
      "   show      Show various types of objects\n",
      "   status    Show the working tree status\n",
      "\n",
      "grow, mark and tweak your common history\n",
      "   branch    List, create, or delete branches\n",
      "   commit    Record changes to the repository\n",
      "   merge     Join two or more development histories together\n",
      "   rebase    Reapply commits on top of another base tip\n",
      "   reset     Reset current HEAD to the specified state\n",
      "   switch    Switch branches\n",
      "   tag       Create, list, delete or verify a tag object signed with GPG\n",
      "\n",
      "collaborate (see also: git help workflows)\n",
      "   fetch     Download objects and refs from another repository\n",
      "   pull      Fetch from and integrate with another repository or a local branch\n",
      "   push      Update remote refs along with associated objects\n",
      "\n",
      "'git help -a' and 'git help -g' list available subcommands and some\n",
      "concept guides. See 'git help <command>' or 'git help <concept>'\n",
      "to read about a specific subcommand or concept.\n",
      "See 'git help git' for an overview of the system.\n"
     ]
    }
   ],
   "source": [
    "!git -h"
   ]
  },
  {
   "cell_type": "code",
   "execution_count": 1,
   "id": "fb082b46-d3c8-452c-9b6c-069ec8caf060",
   "metadata": {},
   "outputs": [
    {
     "name": "stderr",
     "output_type": "stream",
     "text": [
      "git: 'origin' is not a git command. See 'git --help'.\n"
     ]
    }
   ],
   "source": [
    "!git origin"
   ]
  },
  {
   "cell_type": "code",
   "execution_count": 2,
   "id": "b7d8504b-91dc-412e-ac20-b10acdb44c0e",
   "metadata": {},
   "outputs": [
    {
     "name": "stderr",
     "output_type": "stream",
     "text": [
      "unknown option: -u\n",
      "usage: git [-v | --version] [-h | --help] [-C <path>] [-c <name>=<value>]\n",
      "           [--exec-path[=<path>]] [--html-path] [--man-path] [--info-path]\n",
      "           [-p | --paginate | -P | --no-pager] [--no-replace-objects] [--bare]\n",
      "           [--git-dir=<path>] [--work-tree=<path>] [--namespace=<name>]\n",
      "           [--config-env=<name>=<envvar>] <command> [<args>]\n"
     ]
    }
   ],
   "source": [
    "!git -u origin"
   ]
  },
  {
   "cell_type": "code",
   "execution_count": 5,
   "id": "8af8d24d-bb9d-4894-b99c-6da892ee79e0",
   "metadata": {},
   "outputs": [
    {
     "name": "stderr",
     "output_type": "stream",
     "text": [
      "remote: warning: See https://gh.io/lfs for more information.        \n",
      "remote: warning: File hyperparam_tuning/unet_efficientnet/trial_07/checkpoint.weights.h5 is 89.05 MB; this is larger than GitHub's recommended maximum file size of 50.00 MB        \n",
      "remote: warning: File hyperparam_tuning/unet_efficientnet/trial_00/checkpoint.weights.h5 is 87.58 MB; this is larger than GitHub's recommended maximum file size of 50.00 MB        \n",
      "remote: warning: File hyperparam_tuning/unet_efficientnet/trial_01/checkpoint.weights.h5 is 64.16 MB; this is larger than GitHub's recommended maximum file size of 50.00 MB        \n",
      "remote: warning: File hyperparam_tuning/unet_efficientnet/trial_08/checkpoint.weights.h5 is 62.26 MB; this is larger than GitHub's recommended maximum file size of 50.00 MB        \n",
      "remote: warning: File hyperparam_tuning/unet_efficientnet/trial_09/checkpoint.weights.h5 is 86.58 MB; this is larger than GitHub's recommended maximum file size of 50.00 MB        \n",
      "remote: warning: GH001: Large files detected. You may want to try Git Large File Storage - https://git-lfs.github.com.        \n",
      "To https://github.com/sababashfak/CSE499_Jupyter.git\n",
      "   73edd3e..1af2b0a  master -> master\n"
     ]
    }
   ],
   "source": [
    "!git push"
   ]
  },
  {
   "cell_type": "code",
   "execution_count": 4,
   "id": "05392b05-8187-40b6-9324-8d77b26328d9",
   "metadata": {},
   "outputs": [
    {
     "name": "stdout",
     "output_type": "stream",
     "text": [
      "On branch master\n",
      "Your branch is up to date with 'origin/master'.\n",
      "\n",
      "nothing to commit, working tree clean\n"
     ]
    }
   ],
   "source": [
    "!git status"
   ]
  },
  {
   "cell_type": "code",
   "execution_count": 6,
   "id": "1c2fe986-5450-4726-81ea-d21f08b9de15",
   "metadata": {},
   "outputs": [
    {
     "name": "stdout",
     "output_type": "stream",
     "text": [
      "https://github.com/sababashfak/CSE499_Jupyter.git\n"
     ]
    }
   ],
   "source": [
    "!git ls-remote --get-url origin"
   ]
  },
  {
   "cell_type": "code",
   "execution_count": 7,
   "id": "a0725080-8e1f-4196-a1c9-857e0b7313d9",
   "metadata": {},
   "outputs": [
    {
     "name": "stdout",
     "output_type": "stream",
     "text": [
      "On branch master\n",
      "Your branch is up to date with 'origin/master'.\n",
      "\n",
      "Changes not staged for commit:\n",
      "  (use \"git add <file>...\" to update what will be committed)\n",
      "  (use \"git restore <file>...\" to discard changes in working directory)\n",
      "\tmodified:   git control.ipynb\n",
      "\n",
      "Untracked files:\n",
      "  (use \"git add <file>...\" to include in what will be committed)\n",
      "\t.ipynb_checkpoints/Data Preprocess 8matrix-checkpoint.ipynb\n",
      "\t.ipynb_checkpoints/Data Preprocessing for 499-checkpoint.ipynb\n",
      "\tData Preprocess 8matrix.ipynb\n",
      "\n",
      "no changes added to commit (use \"git add\" and/or \"git commit -a\")\n"
     ]
    }
   ],
   "source": [
    "!git status"
   ]
  },
  {
   "cell_type": "code",
   "execution_count": 8,
   "id": "be9238fe-64fe-4be1-bb20-9803abf5c6cd",
   "metadata": {},
   "outputs": [
    {
     "name": "stderr",
     "output_type": "stream",
     "text": [
      "warning: in the working copy of 'git control.ipynb', LF will be replaced by CRLF the next time Git touches it\n",
      "warning: in the working copy of '.ipynb_checkpoints/Data Preprocess 8matrix-checkpoint.ipynb', LF will be replaced by CRLF the next time Git touches it\n",
      "warning: in the working copy of '.ipynb_checkpoints/Data Preprocessing for 499-checkpoint.ipynb', LF will be replaced by CRLF the next time Git touches it\n",
      "warning: in the working copy of 'Data Preprocess 8matrix.ipynb', LF will be replaced by CRLF the next time Git touches it\n"
     ]
    }
   ],
   "source": [
    "!git add ."
   ]
  },
  {
   "cell_type": "code",
   "execution_count": 9,
   "id": "108c2e18-6377-46ad-9111-e0cfcff2e23b",
   "metadata": {},
   "outputs": [
    {
     "name": "stdout",
     "output_type": "stream",
     "text": [
      "[master 9221617] Add data preprossesing\n",
      " 4 files changed, 9814 insertions(+), 1 deletion(-)\n",
      " create mode 100644 .ipynb_checkpoints/Data Preprocess 8matrix-checkpoint.ipynb\n",
      " create mode 100644 .ipynb_checkpoints/Data Preprocessing for 499-checkpoint.ipynb\n",
      " create mode 100644 Data Preprocess 8matrix.ipynb\n"
     ]
    }
   ],
   "source": [
    "!git commit -m \"Add data preprossesing\""
   ]
  },
  {
   "cell_type": "code",
   "execution_count": 10,
   "id": "782338ec-e63b-4481-b0e1-657040c133f0",
   "metadata": {},
   "outputs": [
    {
     "name": "stdout",
     "output_type": "stream",
     "text": [
      "branch 'master' set up to track 'origin/master'.\n"
     ]
    },
    {
     "name": "stderr",
     "output_type": "stream",
     "text": [
      "To https://github.com/sababashfak/CSE499_Jupyter.git\n",
      "   16c77de..9221617  master -> master\n"
     ]
    }
   ],
   "source": [
    "!git push -u origin"
   ]
  },
  {
   "cell_type": "code",
   "execution_count": 11,
   "id": "a96b8902-fee0-4119-bb2e-d68c79ad9a3b",
   "metadata": {},
   "outputs": [
    {
     "name": "stderr",
     "output_type": "stream",
     "text": [
      "Everything up-to-date\n"
     ]
    }
   ],
   "source": [
    "!git push"
   ]
  },
  {
   "cell_type": "code",
   "execution_count": 16,
   "id": "78dd6fa1-a285-4c90-8015-ac22a5d70f46",
   "metadata": {},
   "outputs": [
    {
     "name": "stderr",
     "output_type": "stream",
     "text": [
      "Everything up-to-date\n"
     ]
    }
   ],
   "source": [
    "!git push"
   ]
  },
  {
   "cell_type": "code",
   "execution_count": 18,
   "id": "96fe725d-2632-4400-93d0-ae92113210d7",
   "metadata": {},
   "outputs": [
    {
     "name": "stdout",
     "output_type": "stream",
     "text": [
      "On branch master\n",
      "Your branch is up to date with 'origin/master'.\n",
      "\n",
      "Changes not staged for commit:\n",
      "  (use \"git add <file>...\" to update what will be committed)\n",
      "  (use \"git restore <file>...\" to discard changes in working directory)\n",
      "\tmodified:   git control.ipynb\n",
      "\n",
      "Untracked files:\n",
      "  (use \"git add <file>...\" to include in what will be committed)\n",
      "\t.ipynb_checkpoints/3Model with CSV Data-checkpoint.ipynb\n",
      "\t3Model with CSV Data.ipynb\n",
      "\n",
      "no changes added to commit (use \"git add\" and/or \"git commit -a\")\n"
     ]
    }
   ],
   "source": [
    "!git status"
   ]
  },
  {
   "cell_type": "code",
   "execution_count": 23,
   "id": "c69bbdb4-7c93-4c96-b7d6-d2f486857435",
   "metadata": {},
   "outputs": [
    {
     "name": "stderr",
     "output_type": "stream",
     "text": [
      "warning: in the working copy of '3Model with CSV Data.ipynb', LF will be replaced by CRLF the next time Git touches it\n",
      "warning: in the working copy of 'git control.ipynb', LF will be replaced by CRLF the next time Git touches it\n"
     ]
    }
   ],
   "source": [
    "!git add ."
   ]
  },
  {
   "cell_type": "code",
   "execution_count": 24,
   "id": "79bdafed-9d1e-47bf-a182-984c9e3aa42f",
   "metadata": {},
   "outputs": [
    {
     "name": "stdout",
     "output_type": "stream",
     "text": [
      "[master 73edd3e] Work on 3MOdel with CSV\n",
      " 2 files changed, 1453 insertions(+), 560 deletions(-)\n"
     ]
    }
   ],
   "source": [
    "!git commit -m \"Work on 3MOdel with CSV\""
   ]
  },
  {
   "cell_type": "code",
   "execution_count": 25,
   "id": "71854181-4e5f-4b31-81d0-0091a4126aba",
   "metadata": {},
   "outputs": [
    {
     "name": "stderr",
     "output_type": "stream",
     "text": [
      "To https://github.com/sababashfak/CSE499_Jupyter.git\n",
      "   bb90c94..73edd3e  master -> master\n"
     ]
    }
   ],
   "source": [
    "!git push"
   ]
  },
  {
   "cell_type": "code",
   "execution_count": 6,
   "id": "a2606803-c296-4548-8718-502606b02045",
   "metadata": {},
   "outputs": [
    {
     "name": "stdout",
     "output_type": "stream",
     "text": [
      "On branch master\n",
      "Your branch is up to date with 'origin/master'.\n",
      "\n",
      "Changes not staged for commit:\n",
      "  (use \"git add <file>...\" to update what will be committed)\n",
      "  (use \"git restore <file>...\" to discard changes in working directory)\n",
      "\tmodified:   git control.ipynb\n",
      "\n",
      "no changes added to commit (use \"git add\" and/or \"git commit -a\")\n"
     ]
    }
   ],
   "source": [
    "!git status"
   ]
  },
  {
   "cell_type": "code",
   "execution_count": null,
   "id": "ad787c3a-be16-49cb-b73f-e6d0eff9a4a2",
   "metadata": {},
   "outputs": [],
   "source": []
  }
 ],
 "metadata": {
  "kernelspec": {
   "display_name": "Python 3 (ipykernel)",
   "language": "python",
   "name": "python3"
  },
  "language_info": {
   "codemirror_mode": {
    "name": "ipython",
    "version": 3
   },
   "file_extension": ".py",
   "mimetype": "text/x-python",
   "name": "python",
   "nbconvert_exporter": "python",
   "pygments_lexer": "ipython3",
   "version": "3.12.3"
  }
 },
 "nbformat": 4,
 "nbformat_minor": 5
}
